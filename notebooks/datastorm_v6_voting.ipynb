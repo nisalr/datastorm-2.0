{
 "cells": [
  {
   "cell_type": "markdown",
   "metadata": {},
   "source": [
    "# Import packages and data"
   ]
  },
  {
   "cell_type": "code",
   "execution_count": 148,
   "metadata": {},
   "outputs": [],
   "source": [
    "import pandas as pd\n",
    "import numpy as np\n",
    "from pandas_profiling import ProfileReport\n",
    "from sklearn.metrics import classification_report, f1_score, make_scorer\n",
    "from sklearn.model_selection import train_test_split, GridSearchCV, cross_val_score, StratifiedKFold\n",
    "\n",
    "from sklearn.tree import DecisionTreeClassifier\n",
    "from sklearn.ensemble import RandomForestClassifier, ExtraTreesClassifier, \\\n",
    "    AdaBoostClassifier, ExtraTreesClassifier, GradientBoostingClassifier, VotingClassifier\n",
    "from sklearn.svm import SVC\n",
    "from sklearn.neighbors import KNeighborsClassifier\n",
    "from xgboost import XGBClassifier\n",
    "from lightgbm import LGBMClassifier\n",
    "from catboost import CatBoostClassifier, Pool\n",
    "from sklearn.linear_model import LogisticRegression\n",
    "from sklearn.discriminant_analysis import LinearDiscriminantAnalysis\n",
    "from sklearn.neural_network import MLPClassifier\n",
    "\n",
    "from sklearn.preprocessing import LabelEncoder\n",
    "from category_encoders import OrdinalEncoder, OneHotEncoder, TargetEncoder\n",
    "\n",
    "from imblearn.over_sampling import SMOTE\n",
    "from sklearn.utils.class_weight import compute_class_weight\n",
    "import shap\n",
    "\n",
    "PREPROCESSED_FILE = '../data/preprocessed_train_val_Mar13_0130pm_label_enc.csv'\n",
    "SUBMISSION_SET = '../data/submission_preprocessed_train_val_Mar13_0130pm_label_enc.csv'\n",
    "\n",
    "df = pd.read_csv(PREPROCESSED_FILE, index_col='Reservation-id')\n",
    "df_sub = pd.read_csv(SUBMISSION_SET, index_col='Reservation-id')\n",
    "\n",
    "df = df.sample(frac=1)\n",
    "X_train = df.drop(columns='Reservation_Status')\n",
    "Y_train = df['Reservation_Status']"
   ]
  },
  {
   "cell_type": "code",
   "execution_count": 133,
   "metadata": {},
   "outputs": [],
   "source": [
    "kfold = StratifiedKFold(n_splits=5, shuffle=True)\n",
    "random_state = 2"
   ]
  },
  {
   "cell_type": "markdown",
   "metadata": {},
   "source": [
    "# Voting Classifier"
   ]
  },
  {
   "cell_type": "code",
   "execution_count": 134,
   "metadata": {},
   "outputs": [],
   "source": [
    "classes=[1,2,3]\n",
    "cl_weights = compute_class_weight('balanced', classes=classes, y=Y_train)\n",
    "weights = Y_train.map(dict(zip(classes, cl_weights))).values"
   ]
  },
  {
   "cell_type": "code",
   "execution_count": 78,
   "metadata": {},
   "outputs": [],
   "source": [
    "lgbm = LGBMClassifier(learning_rate=0.1, max_depth=10, min_child_samples=100, n_estimators=800, num_leaves=16, random_state=2, class_weight='balanced')\n",
    "etc = ExtraTreesClassifier(max_depth=10, class_weight='balanced')\n",
    "rf = RandomForestClassifier(bootstrap=False, criterion='gini', max_depth=None, max_features=10, min_samples_leaf=10, min_samples_split=2, n_estimators=300, class_weight='balanced')\n",
    "xgb = XGBClassifier(learning_rate=0.2, max_delta_step=0, max_depth=4, min_child_weight=1, n_estimators=800)\n",
    "dt = DecisionTreeClassifier(criterion='gini', max_depth=4, class_weight='balanced')\n",
    "cb = CatBoostClassifier(learning_rate= 0.1, max_depth= 8, min_child_samples= 100, n_estimators= 800, num_leaves= 16, grow_policy=\"Lossguide\", auto_class_weights='Balanced')\n",
    "ab = AdaBoostClassifier(DecisionTreeClassifier(random_state=random_state, max_depth=5, class_weight='balanced'), random_state=random_state, learning_rate=0.1, n_estimators=200)"
   ]
  },
  {
   "cell_type": "code",
   "execution_count": 79,
   "metadata": {},
   "outputs": [],
   "source": [
    "voting_class = VotingClassifier([('lgbm', lgbm), ('etc', etc), ('rf', rf), ('dt', dt), ('ab', ab), ('cb', cb)], n_jobs=-1, voting='soft')"
   ]
  },
  {
   "cell_type": "code",
   "execution_count": 80,
   "metadata": {},
   "outputs": [],
   "source": [
    "cv_res = cross_val_score(voting_class,\n",
    "              X_train, y=Y_train, \n",
    "              scoring = make_scorer(f1_score, average='macro'), \n",
    "              cv = kfold, n_jobs=4)"
   ]
  },
  {
   "cell_type": "code",
   "execution_count": 81,
   "metadata": {},
   "outputs": [
    {
     "data": {
      "text/plain": [
       "array([0.38839767, 0.38952655, 0.40192455, 0.39599607, 0.39886488])"
      ]
     },
     "execution_count": 81,
     "metadata": {},
     "output_type": "execute_result"
    }
   ],
   "source": [
    "cv_res"
   ]
  },
  {
   "cell_type": "code",
   "execution_count": 82,
   "metadata": {},
   "outputs": [
    {
     "name": "stdout",
     "output_type": "stream",
     "text": [
      "0.3949419447500224\n"
     ]
    }
   ],
   "source": [
    "print(cv_res.mean())"
   ]
  },
  {
   "cell_type": "code",
   "execution_count": 77,
   "metadata": {},
   "outputs": [
    {
     "name": "stdout",
     "output_type": "stream",
     "text": [
      "0.38503242074145105\n"
     ]
    }
   ],
   "source": [
    "print(cv_res.min())"
   ]
  },
  {
   "cell_type": "markdown",
   "metadata": {},
   "source": [
    "# Voting Classifier with XGB"
   ]
  },
  {
   "cell_type": "code",
   "execution_count": 136,
   "metadata": {},
   "outputs": [],
   "source": [
    "classes=[1,2,3]\n",
    "cl_weights = compute_class_weight('balanced', classes=classes, y=Y_train)\n",
    "weights = Y_train.map(dict(zip(classes, cl_weights))).values"
   ]
  },
  {
   "cell_type": "code",
   "execution_count": 145,
   "metadata": {},
   "outputs": [],
   "source": [
    "lgbm = LGBMClassifier(learning_rate=0.1, max_depth=10, min_child_samples=100, n_estimators=800, num_leaves=16, random_state=2)\n",
    "etc = ExtraTreesClassifier(max_depth=10)\n",
    "rf = RandomForestClassifier(bootstrap=False, criterion='gini', max_depth=None, max_features=10, min_samples_leaf=10, min_samples_split=2, n_estimators=300)\n",
    "xgb = XGBClassifier(learning_rate=0.2, max_delta_step=0, max_depth=4, min_child_weight=1, n_estimators=800)\n",
    "dt = DecisionTreeClassifier(criterion='gini', max_depth=4)\n",
    "cb = CatBoostClassifier(learning_rate= 0.1, max_depth= 8, min_child_samples= 100, n_estimators= 800, num_leaves= 16, grow_policy=\"Lossguide\")\n",
    "ab = AdaBoostClassifier(DecisionTreeClassifier(random_state=random_state, max_depth=5), random_state=random_state, learning_rate=0.1, n_estimators=200)"
   ]
  },
  {
   "cell_type": "code",
   "execution_count": 146,
   "metadata": {},
   "outputs": [],
   "source": [
    "voting_class = VotingClassifier([('lgbm', lgbm), ('etc', etc), ('rf', rf), ('dt', dt), ('ab', ab), ('cb', cb), ('xgb', xgb)], n_jobs=-1, voting='soft')"
   ]
  },
  {
   "cell_type": "code",
   "execution_count": 101,
   "metadata": {},
   "outputs": [],
   "source": [
    "cv_res = cross_val_score(voting_class,\n",
    "              X_train, y=Y_train, \n",
    "              scoring = make_scorer(f1_score, average='macro'), \n",
    "              cv = kfold, n_jobs=4, fit_params={'sample_weight':weights})"
   ]
  },
  {
   "cell_type": "code",
   "execution_count": 102,
   "metadata": {},
   "outputs": [
    {
     "name": "stdout",
     "output_type": "stream",
     "text": [
      "[0.39384897 0.39478015 0.3984265  0.4007296  0.39807413]\n"
     ]
    }
   ],
   "source": [
    "print(cv_res)"
   ]
  },
  {
   "cell_type": "code",
   "execution_count": 103,
   "metadata": {},
   "outputs": [
    {
     "name": "stdout",
     "output_type": "stream",
     "text": [
      "0.39717186950121397\n"
     ]
    }
   ],
   "source": [
    "print(cv_res.mean())"
   ]
  },
  {
   "cell_type": "code",
   "execution_count": 147,
   "metadata": {},
   "outputs": [
    {
     "data": {
      "text/plain": [
       "VotingClassifier(estimators=[('lgbm',\n",
       "                              LGBMClassifier(max_depth=10,\n",
       "                                             min_child_samples=100,\n",
       "                                             n_estimators=800, num_leaves=16,\n",
       "                                             random_state=2)),\n",
       "                             ('etc', ExtraTreesClassifier(max_depth=10)),\n",
       "                             ('rf',\n",
       "                              RandomForestClassifier(bootstrap=False,\n",
       "                                                     max_features=10,\n",
       "                                                     min_samples_leaf=10,\n",
       "                                                     n_estimators=300)),\n",
       "                             ('dt', DecisionTreeClassifier(max_depth=4)),\n",
       "                             ('ab',\n",
       "                              AdaBoostClassifier(base_estimator=DecisionTreeClassifier(max_depth=5,\n",
       "                                                                                       random_state=2),\n",
       "                                                 learning_rate=0.1,\n",
       "                                                 n_estimators=200,\n",
       "                                                 random_state=2)),\n",
       "                             ('cb',\n",
       "                              <catboost.core.CatBoostClassifier object at 0x0000028F6865B470>),\n",
       "                             ('xgb',\n",
       "                              XGBClassifier(learning_rate=0.2, max_depth=4,\n",
       "                                            n_estimators=800))],\n",
       "                 n_jobs=-1, voting='soft')"
      ]
     },
     "execution_count": 147,
     "metadata": {},
     "output_type": "execute_result"
    }
   ],
   "source": [
    "voting_class.fit(X_train, Y_train, sample_weight=weights)"
   ]
  },
  {
   "cell_type": "code",
   "execution_count": 149,
   "metadata": {},
   "outputs": [],
   "source": [
    "sub_y = voting_class.predict(df_sub)"
   ]
  },
  {
   "cell_type": "code",
   "execution_count": 151,
   "metadata": {},
   "outputs": [],
   "source": [
    "df_sub['Reservation_Status'] = sub_y"
   ]
  },
  {
   "cell_type": "code",
   "execution_count": 155,
   "metadata": {},
   "outputs": [],
   "source": [
    "df_sub.Reservation_Status.to_frame().to_csv('../output/submission_csv_voting_with_xgb_13Mar_0634pm.csv')"
   ]
  }
 ],
 "metadata": {
  "kernelspec": {
   "display_name": "Python 3",
   "language": "python",
   "name": "python3"
  },
  "language_info": {
   "codemirror_mode": {
    "name": "ipython",
    "version": 3
   },
   "file_extension": ".py",
   "mimetype": "text/x-python",
   "name": "python",
   "nbconvert_exporter": "python",
   "pygments_lexer": "ipython3",
   "version": "3.6.8"
  }
 },
 "nbformat": 4,
 "nbformat_minor": 4
}
