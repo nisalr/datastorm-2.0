{
 "cells": [
  {
   "cell_type": "markdown",
   "metadata": {},
   "source": [
    "# Import Packages"
   ]
  },
  {
   "cell_type": "code",
   "execution_count": 41,
   "metadata": {},
   "outputs": [],
   "source": [
    "import pandas as pd\n",
    "import numpy as np\n",
    "from pandas_profiling import ProfileReport\n",
    "from catboost import CatBoostClassifier, Pool\n",
    "from sklearn.metrics import classification_report, f1_score\n",
    "from sklearn.model_selection import train_test_split\n",
    "from sklearn.preprocessing import LabelEncoder\n",
    "from category_encoders import OrdinalEncoder, OneHotEncoder\n",
    "from sklearn.ensemble import RandomForestClassifier\n",
    "from xgboost import XGBClassifier\n",
    "from lightgbm import LGBMClassifier"
   ]
  },
  {
   "cell_type": "code",
   "execution_count": 59,
   "metadata": {},
   "outputs": [],
   "source": [
    "LABEL_COL = 'Reservation_Status'"
   ]
  },
  {
   "cell_type": "code",
   "execution_count": 515,
   "metadata": {},
   "outputs": [],
   "source": [
    "TRAIN_SET = '../data/Hotel-A-train.csv'\n",
    "VAL_SET = '../data/Hotel-A-validation.csv'\n",
    "TEST_SET = '../data/Hotel-A-test.csv'"
   ]
  },
  {
   "cell_type": "code",
   "execution_count": 550,
   "metadata": {},
   "outputs": [],
   "source": [
    "df = pd.read_csv(TRAIN_SET, index_col='Reservation-id', parse_dates=['Expected_checkin', 'Expected_checkout'])\n",
    "df_val = pd.read_csv(VAL_SET, index_col='Reservation-id', parse_dates=['Expected_checkin', 'Expected_checkout'])\n",
    "df_test = pd.read_csv(TEST_SET, index_col='Reservation-id', parse_dates=['Expected_checkin', 'Expected_checkout'])"
   ]
  },
  {
   "cell_type": "markdown",
   "metadata": {},
   "source": [
    "# Data Preprocessing"
   ]
  },
  {
   "cell_type": "markdown",
   "metadata": {},
   "source": [
    "## Feature Engineering"
   ]
  },
  {
   "cell_type": "code",
   "execution_count": 551,
   "metadata": {},
   "outputs": [],
   "source": [
    "df['income_amount'] = df.Income.map({'<25K':25, '50K -- 100K':100, '25K --50K':50, '>100K':200})\n",
    "df_val['income_amount'] = df_val.Income.map({'<25K':25, '50K -- 100K':100, '25K --50K':50, '>100K':200})\n",
    "df_test['income_amount'] = df_test.Income.map({'<25K':25, '50K -- 100K':100, '25K --50K':50, '>100K':200})"
   ]
  },
  {
   "cell_type": "code",
   "execution_count": 552,
   "metadata": {},
   "outputs": [],
   "source": [
    "df['num_rooms'] = np.ceil((df.Adults + df.Children)/5).astype(int)\n",
    "df_val['num_rooms'] = np.ceil((df_val.Adults + df_val.Children)/5).astype(int)\n",
    "df_test['num_rooms'] = np.ceil((df_test.Adults + df_test.Children)/5).astype(int)"
   ]
  },
  {
   "cell_type": "code",
   "execution_count": 553,
   "metadata": {},
   "outputs": [],
   "source": [
    "df['total_cost'] = df.num_rooms*df.Room_Rate\n",
    "df_val['total_cost'] = df_val.num_rooms*df_val.Room_Rate\n",
    "df_test['total_cost'] = df_test.num_rooms*df_test.Room_Rate"
   ]
  },
  {
   "cell_type": "code",
   "execution_count": 554,
   "metadata": {},
   "outputs": [],
   "source": [
    "df['income_ratio'] = df.income_amount/df.total_cost\n",
    "df_val['income_ratio'] = df_val.income_amount/df_val.total_cost\n",
    "df_test['income_ratio'] = df_test.income_amount/df_test.total_cost"
   ]
  },
  {
   "cell_type": "markdown",
   "metadata": {},
   "source": [
    "## Drop columns"
   ]
  },
  {
   "cell_type": "raw",
   "metadata": {},
   "source": [
    "df['stay_duration'] = (df.Expected_checkout - df.Expected_checkin).dt.days\n",
    "df_val['stay_duration'] = (df_val.Expected_checkout - df_val.Expected_checkin).dt.days"
   ]
  },
  {
   "cell_type": "code",
   "execution_count": 555,
   "metadata": {},
   "outputs": [],
   "source": [
    "drop_cols = ['Expected_checkin', 'Expected_checkout', 'Booking_date', 'num_rooms']"
   ]
  },
  {
   "cell_type": "code",
   "execution_count": 556,
   "metadata": {},
   "outputs": [],
   "source": [
    "df = df.drop(columns=drop_cols)\n",
    "df_val = df_val.drop(columns=drop_cols)\n",
    "df_test = df_test.drop(columns=drop_cols)"
   ]
  },
  {
   "cell_type": "code",
   "execution_count": 557,
   "metadata": {},
   "outputs": [],
   "source": [
    "df_test[LABEL_COL] = 'abc'"
   ]
  },
  {
   "cell_type": "markdown",
   "metadata": {},
   "source": [
    "## Categorical encoding"
   ]
  },
  {
   "cell_type": "code",
   "execution_count": 558,
   "metadata": {},
   "outputs": [],
   "source": [
    "categorical_features_indices = np.where((df.dtypes != np.float) & (df.dtypes != np.int64))[0]"
   ]
  },
  {
   "cell_type": "code",
   "execution_count": 559,
   "metadata": {},
   "outputs": [],
   "source": [
    "cat_cols = list(set(df.columns[categorical_features_indices].to_list()) - set([LABEL_COL]))"
   ]
  },
  {
   "cell_type": "code",
   "execution_count": 560,
   "metadata": {},
   "outputs": [],
   "source": [
    "le = OrdinalEncoder(cols=cat_cols)"
   ]
  },
  {
   "cell_type": "code",
   "execution_count": 561,
   "metadata": {},
   "outputs": [
    {
     "data": {
      "text/plain": [
       "OrdinalEncoder(cols=['Educational_Level', 'Gender', 'Income', 'Hotel_Type',\n",
       "                     'Meal_Type', 'Use_Promotion', 'Previous_Cancellations',\n",
       "                     'Country_region', 'Ethnicity', 'Required_Car_Parking',\n",
       "                     'Visted_Previously', 'Deposit_type', 'Booking_channel'],\n",
       "               drop_invariant=False, handle_missing='value',\n",
       "               handle_unknown='value',\n",
       "               mapping=[{'col': 'Educational_Level', 'data_type': dtyp...\n",
       "                         'mapping': Yes    1\n",
       "No     2\n",
       "NaN   -2\n",
       "dtype: int64},\n",
       "                        {'col': 'Visted_Previously', 'data_type': dtype('O'),\n",
       "                         'mapping': No     1\n",
       "Yes    2\n",
       "NaN   -2\n",
       "dtype: int64},\n",
       "                        {'col': 'Deposit_type', 'data_type': dtype('O'),\n",
       "                         'mapping': No Deposit        1\n",
       "Refundable        2\n",
       "Non-Refundable    3\n",
       "NaN              -2\n",
       "dtype: int64},\n",
       "                        {'col': 'Booking_channel', 'data_type': dtype('O'),\n",
       "                         'mapping': Online    1\n",
       "Agent     2\n",
       "Direct    3\n",
       "NaN      -2\n",
       "dtype: int64}],\n",
       "               return_df=True, verbose=0)"
      ]
     },
     "execution_count": 561,
     "metadata": {},
     "output_type": "execute_result"
    }
   ],
   "source": [
    "le.fit(df)"
   ]
  },
  {
   "cell_type": "code",
   "execution_count": 562,
   "metadata": {},
   "outputs": [],
   "source": [
    "df = le.transform(df)\n",
    "df_val = le.transform(df_val)\n",
    "df_test = le.transform(df_test)"
   ]
  },
  {
   "cell_type": "code",
   "execution_count": 563,
   "metadata": {},
   "outputs": [],
   "source": [
    "df[cat_cols] = df[cat_cols].astype('category')\n",
    "df_val[cat_cols] = df_val[cat_cols].astype('category')\n",
    "df_test[cat_cols] = df_test[cat_cols].astype('category')"
   ]
  },
  {
   "cell_type": "markdown",
   "metadata": {},
   "source": [
    "# Create Train/Test Dataset"
   ]
  },
  {
   "cell_type": "code",
   "execution_count": 564,
   "metadata": {},
   "outputs": [],
   "source": [
    "X = df.drop(columns='Reservation_Status')\n",
    "y = df['Reservation_Status']"
   ]
  },
  {
   "cell_type": "code",
   "execution_count": 565,
   "metadata": {},
   "outputs": [],
   "source": [
    "val_X = df_val.drop(columns='Reservation_Status')\n",
    "val_y = df_val['Reservation_Status']"
   ]
  },
  {
   "cell_type": "code",
   "execution_count": 566,
   "metadata": {},
   "outputs": [],
   "source": [
    "sub_X = df_test.drop(columns='Reservation_Status')"
   ]
  },
  {
   "cell_type": "code",
   "execution_count": 578,
   "metadata": {},
   "outputs": [],
   "source": [
    "train_X, test_X, train_y, test_y = train_test_split(X, y, test_size=0.2)"
   ]
  },
  {
   "cell_type": "code",
   "execution_count": 579,
   "metadata": {},
   "outputs": [],
   "source": [
    "categorical_features_indices = categorical_features_indices[:-1]"
   ]
  },
  {
   "cell_type": "code",
   "execution_count": 580,
   "metadata": {},
   "outputs": [
    {
     "data": {
      "text/plain": [
       "Gender                    category\n",
       "Age                          int64\n",
       "Ethnicity                 category\n",
       "Educational_Level         category\n",
       "Income                    category\n",
       "Country_region            category\n",
       "Hotel_Type                category\n",
       "Adults                       int64\n",
       "Children                     int64\n",
       "Babies                       int64\n",
       "Meal_Type                 category\n",
       "Visted_Previously         category\n",
       "Previous_Cancellations    category\n",
       "Deposit_type              category\n",
       "Booking_channel           category\n",
       "Required_Car_Parking      category\n",
       "Reservation_Status          object\n",
       "Use_Promotion             category\n",
       "Discount_Rate                int64\n",
       "Room_Rate                    int64\n",
       "income_amount                int64\n",
       "total_cost                   int64\n",
       "income_ratio               float64\n",
       "dtype: object"
      ]
     },
     "execution_count": 580,
     "metadata": {},
     "output_type": "execute_result"
    }
   ],
   "source": [
    "df.dtypes"
   ]
  },
  {
   "cell_type": "markdown",
   "metadata": {},
   "source": [
    "# Model Training"
   ]
  },
  {
   "cell_type": "code",
   "execution_count": 607,
   "metadata": {},
   "outputs": [],
   "source": [
    "model = LGBMClassifier(n_estimators=5000, n_jobs=-1, max_depth=3, class_weight='balanced', num_leaves=7\n",
    "                       , subsample=0.8)"
   ]
  },
  {
   "cell_type": "code",
   "execution_count": 608,
   "metadata": {},
   "outputs": [
    {
     "name": "stderr",
     "output_type": "stream",
     "text": [
      "c:\\users\\nisal_105136\\appdata\\local\\programs\\python\\python36\\lib\\site-packages\\lightgbm\\basic.py:1286: UserWarning: Overriding the parameters from Reference Dataset.\n",
      "  warnings.warn('Overriding the parameters from Reference Dataset.')\n",
      "c:\\users\\nisal_105136\\appdata\\local\\programs\\python\\python36\\lib\\site-packages\\lightgbm\\basic.py:1098: UserWarning: categorical_column in param dict is overridden.\n",
      "  warnings.warn('{} in param dict is overridden.'.format(cat_alias))\n"
     ]
    },
    {
     "data": {
      "text/plain": [
       "LGBMClassifier(boosting_type='gbdt', class_weight='balanced',\n",
       "               colsample_bytree=1.0, importance_type='split', learning_rate=0.1,\n",
       "               max_depth=3, min_child_samples=20, min_child_weight=0.001,\n",
       "               min_split_gain=0.0, n_estimators=5000, n_jobs=-1, num_leaves=7,\n",
       "               objective=None, random_state=None, reg_alpha=0.0, reg_lambda=0.0,\n",
       "               silent=True, subsample=0.8, subsample_for_bin=200000,\n",
       "               subsample_freq=0)"
      ]
     },
     "execution_count": 608,
     "metadata": {},
     "output_type": "execute_result"
    }
   ],
   "source": [
    "model.fit(train_X, train_y, eval_set=(test_X, test_y),\n",
    "          categorical_feature='auto', early_stopping_rounds=100, verbose=0)"
   ]
  },
  {
   "cell_type": "markdown",
   "metadata": {},
   "source": [
    "# Model Evaluation"
   ]
  },
  {
   "cell_type": "code",
   "execution_count": 609,
   "metadata": {},
   "outputs": [],
   "source": [
    "pred_y = model.predict(test_X)\n",
    "pred_y_train = model.predict(train_X)\n",
    "pred_y_val = model.predict(val_X)"
   ]
  },
  {
   "cell_type": "code",
   "execution_count": 610,
   "metadata": {},
   "outputs": [
    {
     "name": "stdout",
     "output_type": "stream",
     "text": [
      "              precision    recall  f1-score   support\n",
      "\n",
      "    Canceled       0.17      0.29      0.22       805\n",
      "    Check-In       0.81      0.59      0.68      4249\n",
      "     No-Show       0.09      0.21      0.13       446\n",
      "\n",
      "    accuracy                           0.51      5500\n",
      "   macro avg       0.36      0.36      0.34      5500\n",
      "weighted avg       0.66      0.51      0.57      5500\n",
      "\n"
     ]
    }
   ],
   "source": [
    "print(classification_report(test_y, pred_y))"
   ]
  },
  {
   "cell_type": "code",
   "execution_count": 611,
   "metadata": {},
   "outputs": [
    {
     "name": "stdout",
     "output_type": "stream",
     "text": [
      "0.5704509580339966\n"
     ]
    }
   ],
   "source": [
    "print(f1_score(train_y, pred_y_train, average='macro'))"
   ]
  },
  {
   "cell_type": "code",
   "execution_count": 612,
   "metadata": {},
   "outputs": [
    {
     "name": "stdout",
     "output_type": "stream",
     "text": [
      "0.34175393826692724\n"
     ]
    }
   ],
   "source": [
    "print(f1_score(test_y, pred_y, average='macro'))"
   ]
  },
  {
   "cell_type": "code",
   "execution_count": 614,
   "metadata": {},
   "outputs": [
    {
     "name": "stdout",
     "output_type": "stream",
     "text": [
      "0.34308662526484307\n"
     ]
    }
   ],
   "source": [
    "print(f1_score(val_y, pred_y_val, average='macro'))"
   ]
  },
  {
   "cell_type": "code",
   "execution_count": 577,
   "metadata": {},
   "outputs": [
    {
     "data": {
      "text/plain": [
       "income_ratio              14827\n",
       "Age                       14696\n",
       "total_cost                11566\n",
       "Room_Rate                 10487\n",
       "Discount_Rate              4720\n",
       "Adults                     3203\n",
       "Hotel_Type                 3151\n",
       "Educational_Level          3000\n",
       "Booking_channel            2952\n",
       "Meal_Type                  2860\n",
       "Country_region             2803\n",
       "Ethnicity                  2748\n",
       "Deposit_type               2391\n",
       "Children                   2190\n",
       "Babies                     1850\n",
       "Required_Car_Parking       1386\n",
       "Gender                     1237\n",
       "Visted_Previously          1109\n",
       "Previous_Cancellations      976\n",
       "Use_Promotion               789\n",
       "Income                      679\n",
       "income_amount               308\n",
       "dtype: int32"
      ]
     },
     "execution_count": 577,
     "metadata": {},
     "output_type": "execute_result"
    }
   ],
   "source": [
    "pd.Series(model.feature_importances_, index=train_X.columns).sort_values(ascending=False)"
   ]
  },
  {
   "cell_type": "code",
   "execution_count": 514,
   "metadata": {},
   "outputs": [
    {
     "data": {
      "text/html": [
       "<div>\n",
       "<style scoped>\n",
       "    .dataframe tbody tr th:only-of-type {\n",
       "        vertical-align: middle;\n",
       "    }\n",
       "\n",
       "    .dataframe tbody tr th {\n",
       "        vertical-align: top;\n",
       "    }\n",
       "\n",
       "    .dataframe thead th {\n",
       "        text-align: right;\n",
       "    }\n",
       "</style>\n",
       "<table border=\"1\" class=\"dataframe\">\n",
       "  <thead>\n",
       "    <tr style=\"text-align: right;\">\n",
       "      <th></th>\n",
       "      <th>Gender</th>\n",
       "      <th>Age</th>\n",
       "      <th>Ethnicity</th>\n",
       "      <th>Educational_Level</th>\n",
       "      <th>Income</th>\n",
       "      <th>Country_region</th>\n",
       "      <th>Hotel_Type</th>\n",
       "      <th>Adults</th>\n",
       "      <th>Children</th>\n",
       "      <th>Babies</th>\n",
       "      <th>...</th>\n",
       "      <th>Booking_channel</th>\n",
       "      <th>Required_Car_Parking</th>\n",
       "      <th>Reservation_Status</th>\n",
       "      <th>Use_Promotion</th>\n",
       "      <th>Discount_Rate</th>\n",
       "      <th>Room_Rate</th>\n",
       "      <th>income_amount</th>\n",
       "      <th>num_rooms</th>\n",
       "      <th>total_cost</th>\n",
       "      <th>income_ratio</th>\n",
       "    </tr>\n",
       "    <tr>\n",
       "      <th>Reservation-id</th>\n",
       "      <th></th>\n",
       "      <th></th>\n",
       "      <th></th>\n",
       "      <th></th>\n",
       "      <th></th>\n",
       "      <th></th>\n",
       "      <th></th>\n",
       "      <th></th>\n",
       "      <th></th>\n",
       "      <th></th>\n",
       "      <th></th>\n",
       "      <th></th>\n",
       "      <th></th>\n",
       "      <th></th>\n",
       "      <th></th>\n",
       "      <th></th>\n",
       "      <th></th>\n",
       "      <th></th>\n",
       "      <th></th>\n",
       "      <th></th>\n",
       "      <th></th>\n",
       "    </tr>\n",
       "  </thead>\n",
       "  <tbody>\n",
       "    <tr>\n",
       "      <th>39428300</th>\n",
       "      <td>1</td>\n",
       "      <td>40</td>\n",
       "      <td>1</td>\n",
       "      <td>1</td>\n",
       "      <td>1</td>\n",
       "      <td>1</td>\n",
       "      <td>1</td>\n",
       "      <td>2</td>\n",
       "      <td>2</td>\n",
       "      <td>0</td>\n",
       "      <td>...</td>\n",
       "      <td>1</td>\n",
       "      <td>1</td>\n",
       "      <td>Check-In</td>\n",
       "      <td>1</td>\n",
       "      <td>10</td>\n",
       "      <td>218</td>\n",
       "      <td>25</td>\n",
       "      <td>1</td>\n",
       "      <td>218</td>\n",
       "      <td>0.114679</td>\n",
       "    </tr>\n",
       "    <tr>\n",
       "      <th>77491756</th>\n",
       "      <td>1</td>\n",
       "      <td>49</td>\n",
       "      <td>1</td>\n",
       "      <td>2</td>\n",
       "      <td>2</td>\n",
       "      <td>2</td>\n",
       "      <td>1</td>\n",
       "      <td>3</td>\n",
       "      <td>3</td>\n",
       "      <td>0</td>\n",
       "      <td>...</td>\n",
       "      <td>1</td>\n",
       "      <td>1</td>\n",
       "      <td>Check-In</td>\n",
       "      <td>2</td>\n",
       "      <td>0</td>\n",
       "      <td>185</td>\n",
       "      <td>100</td>\n",
       "      <td>2</td>\n",
       "      <td>370</td>\n",
       "      <td>0.270270</td>\n",
       "    </tr>\n",
       "    <tr>\n",
       "      <th>73747291</th>\n",
       "      <td>1</td>\n",
       "      <td>42</td>\n",
       "      <td>2</td>\n",
       "      <td>1</td>\n",
       "      <td>1</td>\n",
       "      <td>2</td>\n",
       "      <td>1</td>\n",
       "      <td>3</td>\n",
       "      <td>3</td>\n",
       "      <td>0</td>\n",
       "      <td>...</td>\n",
       "      <td>1</td>\n",
       "      <td>1</td>\n",
       "      <td>Check-In</td>\n",
       "      <td>2</td>\n",
       "      <td>0</td>\n",
       "      <td>119</td>\n",
       "      <td>25</td>\n",
       "      <td>2</td>\n",
       "      <td>238</td>\n",
       "      <td>0.105042</td>\n",
       "    </tr>\n",
       "    <tr>\n",
       "      <th>67301739</th>\n",
       "      <td>2</td>\n",
       "      <td>25</td>\n",
       "      <td>3</td>\n",
       "      <td>3</td>\n",
       "      <td>3</td>\n",
       "      <td>3</td>\n",
       "      <td>2</td>\n",
       "      <td>4</td>\n",
       "      <td>3</td>\n",
       "      <td>0</td>\n",
       "      <td>...</td>\n",
       "      <td>2</td>\n",
       "      <td>1</td>\n",
       "      <td>Check-In</td>\n",
       "      <td>1</td>\n",
       "      <td>5</td>\n",
       "      <td>144</td>\n",
       "      <td>200</td>\n",
       "      <td>2</td>\n",
       "      <td>288</td>\n",
       "      <td>0.694444</td>\n",
       "    </tr>\n",
       "    <tr>\n",
       "      <th>77222321</th>\n",
       "      <td>1</td>\n",
       "      <td>62</td>\n",
       "      <td>1</td>\n",
       "      <td>4</td>\n",
       "      <td>4</td>\n",
       "      <td>2</td>\n",
       "      <td>3</td>\n",
       "      <td>1</td>\n",
       "      <td>1</td>\n",
       "      <td>0</td>\n",
       "      <td>...</td>\n",
       "      <td>3</td>\n",
       "      <td>2</td>\n",
       "      <td>Check-In</td>\n",
       "      <td>1</td>\n",
       "      <td>10</td>\n",
       "      <td>242</td>\n",
       "      <td>50</td>\n",
       "      <td>1</td>\n",
       "      <td>242</td>\n",
       "      <td>0.206612</td>\n",
       "    </tr>\n",
       "    <tr>\n",
       "      <th>...</th>\n",
       "      <td>...</td>\n",
       "      <td>...</td>\n",
       "      <td>...</td>\n",
       "      <td>...</td>\n",
       "      <td>...</td>\n",
       "      <td>...</td>\n",
       "      <td>...</td>\n",
       "      <td>...</td>\n",
       "      <td>...</td>\n",
       "      <td>...</td>\n",
       "      <td>...</td>\n",
       "      <td>...</td>\n",
       "      <td>...</td>\n",
       "      <td>...</td>\n",
       "      <td>...</td>\n",
       "      <td>...</td>\n",
       "      <td>...</td>\n",
       "      <td>...</td>\n",
       "      <td>...</td>\n",
       "      <td>...</td>\n",
       "      <td>...</td>\n",
       "    </tr>\n",
       "    <tr>\n",
       "      <th>15645505</th>\n",
       "      <td>1</td>\n",
       "      <td>49</td>\n",
       "      <td>3</td>\n",
       "      <td>2</td>\n",
       "      <td>1</td>\n",
       "      <td>4</td>\n",
       "      <td>1</td>\n",
       "      <td>1</td>\n",
       "      <td>2</td>\n",
       "      <td>1</td>\n",
       "      <td>...</td>\n",
       "      <td>1</td>\n",
       "      <td>1</td>\n",
       "      <td>Check-In</td>\n",
       "      <td>1</td>\n",
       "      <td>10</td>\n",
       "      <td>100</td>\n",
       "      <td>25</td>\n",
       "      <td>1</td>\n",
       "      <td>100</td>\n",
       "      <td>0.250000</td>\n",
       "    </tr>\n",
       "    <tr>\n",
       "      <th>56414525</th>\n",
       "      <td>1</td>\n",
       "      <td>49</td>\n",
       "      <td>4</td>\n",
       "      <td>3</td>\n",
       "      <td>4</td>\n",
       "      <td>3</td>\n",
       "      <td>2</td>\n",
       "      <td>2</td>\n",
       "      <td>1</td>\n",
       "      <td>0</td>\n",
       "      <td>...</td>\n",
       "      <td>2</td>\n",
       "      <td>1</td>\n",
       "      <td>No-Show</td>\n",
       "      <td>1</td>\n",
       "      <td>40</td>\n",
       "      <td>194</td>\n",
       "      <td>50</td>\n",
       "      <td>1</td>\n",
       "      <td>194</td>\n",
       "      <td>0.257732</td>\n",
       "    </tr>\n",
       "    <tr>\n",
       "      <th>52023375</th>\n",
       "      <td>1</td>\n",
       "      <td>49</td>\n",
       "      <td>1</td>\n",
       "      <td>4</td>\n",
       "      <td>2</td>\n",
       "      <td>3</td>\n",
       "      <td>2</td>\n",
       "      <td>2</td>\n",
       "      <td>1</td>\n",
       "      <td>1</td>\n",
       "      <td>...</td>\n",
       "      <td>3</td>\n",
       "      <td>1</td>\n",
       "      <td>Check-In</td>\n",
       "      <td>1</td>\n",
       "      <td>5</td>\n",
       "      <td>202</td>\n",
       "      <td>100</td>\n",
       "      <td>1</td>\n",
       "      <td>202</td>\n",
       "      <td>0.495050</td>\n",
       "    </tr>\n",
       "    <tr>\n",
       "      <th>98041387</th>\n",
       "      <td>2</td>\n",
       "      <td>65</td>\n",
       "      <td>3</td>\n",
       "      <td>3</td>\n",
       "      <td>4</td>\n",
       "      <td>3</td>\n",
       "      <td>2</td>\n",
       "      <td>3</td>\n",
       "      <td>2</td>\n",
       "      <td>0</td>\n",
       "      <td>...</td>\n",
       "      <td>1</td>\n",
       "      <td>2</td>\n",
       "      <td>Canceled</td>\n",
       "      <td>1</td>\n",
       "      <td>20</td>\n",
       "      <td>157</td>\n",
       "      <td>50</td>\n",
       "      <td>1</td>\n",
       "      <td>157</td>\n",
       "      <td>0.318471</td>\n",
       "    </tr>\n",
       "    <tr>\n",
       "      <th>55243988</th>\n",
       "      <td>1</td>\n",
       "      <td>48</td>\n",
       "      <td>2</td>\n",
       "      <td>3</td>\n",
       "      <td>4</td>\n",
       "      <td>1</td>\n",
       "      <td>3</td>\n",
       "      <td>3</td>\n",
       "      <td>1</td>\n",
       "      <td>0</td>\n",
       "      <td>...</td>\n",
       "      <td>1</td>\n",
       "      <td>2</td>\n",
       "      <td>No-Show</td>\n",
       "      <td>2</td>\n",
       "      <td>0</td>\n",
       "      <td>210</td>\n",
       "      <td>50</td>\n",
       "      <td>1</td>\n",
       "      <td>210</td>\n",
       "      <td>0.238095</td>\n",
       "    </tr>\n",
       "  </tbody>\n",
       "</table>\n",
       "<p>27499 rows × 24 columns</p>\n",
       "</div>"
      ],
      "text/plain": [
       "               Gender  Age Ethnicity Educational_Level Income Country_region  \\\n",
       "Reservation-id                                                                 \n",
       "39428300            1   40         1                 1      1              1   \n",
       "77491756            1   49         1                 2      2              2   \n",
       "73747291            1   42         2                 1      1              2   \n",
       "67301739            2   25         3                 3      3              3   \n",
       "77222321            1   62         1                 4      4              2   \n",
       "...               ...  ...       ...               ...    ...            ...   \n",
       "15645505            1   49         3                 2      1              4   \n",
       "56414525            1   49         4                 3      4              3   \n",
       "52023375            1   49         1                 4      2              3   \n",
       "98041387            2   65         3                 3      4              3   \n",
       "55243988            1   48         2                 3      4              1   \n",
       "\n",
       "               Hotel_Type  Adults  Children  Babies  ... Booking_channel  \\\n",
       "Reservation-id                                       ...                   \n",
       "39428300                1       2         2       0  ...               1   \n",
       "77491756                1       3         3       0  ...               1   \n",
       "73747291                1       3         3       0  ...               1   \n",
       "67301739                2       4         3       0  ...               2   \n",
       "77222321                3       1         1       0  ...               3   \n",
       "...                   ...     ...       ...     ...  ...             ...   \n",
       "15645505                1       1         2       1  ...               1   \n",
       "56414525                2       2         1       0  ...               2   \n",
       "52023375                2       2         1       1  ...               3   \n",
       "98041387                2       3         2       0  ...               1   \n",
       "55243988                3       3         1       0  ...               1   \n",
       "\n",
       "               Required_Car_Parking Reservation_Status Use_Promotion  \\\n",
       "Reservation-id                                                         \n",
       "39428300                          1           Check-In             1   \n",
       "77491756                          1           Check-In             2   \n",
       "73747291                          1           Check-In             2   \n",
       "67301739                          1           Check-In             1   \n",
       "77222321                          2           Check-In             1   \n",
       "...                             ...                ...           ...   \n",
       "15645505                          1           Check-In             1   \n",
       "56414525                          1            No-Show             1   \n",
       "52023375                          1           Check-In             1   \n",
       "98041387                          2           Canceled             1   \n",
       "55243988                          2            No-Show             2   \n",
       "\n",
       "               Discount_Rate Room_Rate income_amount num_rooms  total_cost  \\\n",
       "Reservation-id                                                               \n",
       "39428300                  10       218            25         1         218   \n",
       "77491756                   0       185           100         2         370   \n",
       "73747291                   0       119            25         2         238   \n",
       "67301739                   5       144           200         2         288   \n",
       "77222321                  10       242            50         1         242   \n",
       "...                      ...       ...           ...       ...         ...   \n",
       "15645505                  10       100            25         1         100   \n",
       "56414525                  40       194            50         1         194   \n",
       "52023375                   5       202           100         1         202   \n",
       "98041387                  20       157            50         1         157   \n",
       "55243988                   0       210            50         1         210   \n",
       "\n",
       "                income_ratio  \n",
       "Reservation-id                \n",
       "39428300            0.114679  \n",
       "77491756            0.270270  \n",
       "73747291            0.105042  \n",
       "67301739            0.694444  \n",
       "77222321            0.206612  \n",
       "...                      ...  \n",
       "15645505            0.250000  \n",
       "56414525            0.257732  \n",
       "52023375            0.495050  \n",
       "98041387            0.318471  \n",
       "55243988            0.238095  \n",
       "\n",
       "[27499 rows x 24 columns]"
      ]
     },
     "execution_count": 514,
     "metadata": {},
     "output_type": "execute_result"
    }
   ],
   "source": [
    "df_test"
   ]
  },
  {
   "cell_type": "code",
   "execution_count": 531,
   "metadata": {},
   "outputs": [],
   "source": [
    "sub_y = model.predict(sub_X)"
   ]
  },
  {
   "cell_type": "code",
   "execution_count": 532,
   "metadata": {},
   "outputs": [
    {
     "data": {
      "text/plain": [
       "array(['No-Show', 'No-Show', 'Check-In', ..., 'Canceled', 'Check-In',\n",
       "       'Check-In'], dtype=object)"
      ]
     },
     "execution_count": 532,
     "metadata": {},
     "output_type": "execute_result"
    }
   ],
   "source": [
    "sub_y"
   ]
  },
  {
   "cell_type": "code",
   "execution_count": 534,
   "metadata": {},
   "outputs": [],
   "source": [
    "df_test['pred_y'] = sub_y"
   ]
  },
  {
   "cell_type": "code",
   "execution_count": 537,
   "metadata": {},
   "outputs": [
    {
     "data": {
      "text/plain": [
       "Reservation-id\n",
       "62931593     No-Show\n",
       "70586099     No-Show\n",
       "4230648     Check-In\n",
       "25192322    Check-In\n",
       "80931528    Canceled\n",
       "              ...   \n",
       "39110574     No-Show\n",
       "5496554     Check-In\n",
       "59004046    Canceled\n",
       "65838682    Check-In\n",
       "14474101    Check-In\n",
       "Name: pred_y, Length: 4318, dtype: object"
      ]
     },
     "execution_count": 537,
     "metadata": {},
     "output_type": "execute_result"
    }
   ],
   "source": [
    "df_test.pred_y"
   ]
  },
  {
   "cell_type": "code",
   "execution_count": 539,
   "metadata": {},
   "outputs": [],
   "source": [
    "sub_s = df_test.pred_y.map({'Check-In':1, 'Canceled':2, 'No-Show':3})"
   ]
  },
  {
   "cell_type": "code",
   "execution_count": 540,
   "metadata": {},
   "outputs": [],
   "source": [
    "sub_s.name = 'Reservation_status'"
   ]
  },
  {
   "cell_type": "code",
   "execution_count": 546,
   "metadata": {},
   "outputs": [],
   "source": [
    "sub_s.to_frame().to_csv('../output/submission_file_11Mar_10_41_pm.csv', header=True)"
   ]
  },
  {
   "cell_type": "code",
   "execution_count": null,
   "metadata": {},
   "outputs": [],
   "source": []
  }
 ],
 "metadata": {
  "kernelspec": {
   "display_name": "Python 3",
   "language": "python",
   "name": "python3"
  },
  "language_info": {
   "codemirror_mode": {
    "name": "ipython",
    "version": 3
   },
   "file_extension": ".py",
   "mimetype": "text/x-python",
   "name": "python",
   "nbconvert_exporter": "python",
   "pygments_lexer": "ipython3",
   "version": "3.6.8"
  }
 },
 "nbformat": 4,
 "nbformat_minor": 4
}
