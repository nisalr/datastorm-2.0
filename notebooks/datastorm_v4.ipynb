{
 "cells": [
  {
   "cell_type": "markdown",
   "metadata": {},
   "source": [
    "# Import packages and data"
   ]
  },
  {
   "cell_type": "code",
   "execution_count": 1,
   "metadata": {},
   "outputs": [],
   "source": [
    "import pandas as pd\n",
    "import numpy as np\n",
    "from pandas_profiling import ProfileReport\n",
    "from sklearn.metrics import classification_report, f1_score, make_scorer\n",
    "from sklearn.model_selection import train_test_split, GridSearchCV, cross_val_score, StratifiedKFold\n",
    "\n",
    "from sklearn.tree import DecisionTreeClassifier\n",
    "from sklearn.ensemble import RandomForestClassifier, ExtraTreesClassifier, \\\n",
    "    AdaBoostClassifier, ExtraTreesClassifier, GradientBoostingClassifier, VotingClassifier\n",
    "from sklearn.svm import SVC\n",
    "from sklearn.neighbors import KNeighborsClassifier\n",
    "from xgboost import XGBClassifier\n",
    "from lightgbm import LGBMClassifier\n",
    "from catboost import CatBoostClassifier, Pool\n",
    "from sklearn.linear_model import LogisticRegression\n",
    "from sklearn.discriminant_analysis import LinearDiscriminantAnalysis\n",
    "from sklearn.neural_network import MLPClassifier\n",
    "\n",
    "from sklearn.preprocessing import LabelEncoder\n",
    "from category_encoders import OrdinalEncoder, OneHotEncoder, TargetEncoder\n",
    "\n",
    "from imblearn.over_sampling import SMOTE\n",
    "from sklearn.utils.class_weight import compute_class_weight\n",
    "import shap\n",
    "\n",
    "PREPROCESSED_FILE = '../data/preprocessed_train_val_Mar12_1130pm.csv'\n",
    "\n",
    "df = pd.read_csv(PREPROCESSED_FILE, index_col='Reservation-id')\n",
    "\n",
    "# RandomForest\n",
    "# Extra Trees\n",
    "# SVC\n",
    "# LightGBM\n",
    "\n",
    "X_train = df.drop(columns='Reservation_Status')\n",
    "Y_train = df['Reservation_Status']\n",
    "\n",
    "kfold = StratifiedKFold(n_splits=10)\n",
    "\n",
    "random_state = 2\n"
   ]
  },
  {
   "cell_type": "raw",
   "metadata": {},
   "source": [
    "# Modeling step Test differents algorithms \n",
    "classifiers = []\n",
    "classifiers.append(CatBoostClassifier(max_depth=10, auto_class_weights='Balanced', n_estimators=10))\n",
    "classifiers.append(LGBMClassifier(random_state=random_state, max_depth=10, class_weight='balanced'))\n",
    "classifiers.append(SVC(random_state=random_state, class_weight='balanced'))\n",
    "classifiers.append(DecisionTreeClassifier(random_state=random_state, max_depth=10, class_weight='balanced'))\n",
    "# classifiers.append(AdaBoostClassifier(DecisionTreeClassifier(random_state=random_state),random_state=random_state,learning_rate=0.1))\n",
    "# classifiers.append(RandomForestClassifier(random_state=random_state))\n",
    "# classifiers.append(ExtraTreesClassifier(random_state=random_state))\n",
    "# classifiers.append(GradientBoostingClassifier(random_state=random_state))\n",
    "# classifiers.append(MLPClassifier(random_state=random_state))\n",
    "# classifiers.append(KNeighborsClassifier())\n",
    "# classifiers.append(LogisticRegression(random_state=random_state))\n",
    "# classifiers.append(LinearDiscriminantAnalysis())\n",
    "# classifiers.append(XGBClassifier(random_state=random_state))\n",
    "\n",
    "cv_results = []\n",
    "for classifier in classifiers :\n",
    "    print(classifier)\n",
    "    cv_results.append(cross_val_score(classifier,\n",
    "                                      X_train, y = Y_train, \n",
    "                                      scoring = make_scorer(f1_score, average='macro'), \n",
    "                                      cv = kfold, n_jobs=-1))"
   ]
  },
  {
   "cell_type": "code",
   "execution_count": 2,
   "metadata": {},
   "outputs": [
    {
     "ename": "NameError",
     "evalue": "name 'cv_results' is not defined",
     "output_type": "error",
     "traceback": [
      "\u001b[1;31m---------------------------------------------------------------------------\u001b[0m",
      "\u001b[1;31mNameError\u001b[0m                                 Traceback (most recent call last)",
      "\u001b[1;32m<ipython-input-2-650a0d7c2c5d>\u001b[0m in \u001b[0;36m<module>\u001b[1;34m\u001b[0m\n\u001b[1;32m----> 1\u001b[1;33m \u001b[0mcv_results\u001b[0m\u001b[1;33m\u001b[0m\u001b[1;33m\u001b[0m\u001b[0m\n\u001b[0m",
      "\u001b[1;31mNameError\u001b[0m: name 'cv_results' is not defined"
     ]
    }
   ],
   "source": [
    "cv_results"
   ]
  },
  {
   "cell_type": "code",
   "execution_count": 20,
   "metadata": {},
   "outputs": [
    {
     "data": {
      "text/plain": [
       "[0.23041471238049746,\n",
       " 0.1504272324866282,\n",
       " 0.16711541580364891,\n",
       " 0.15291330752069315]"
      ]
     },
     "execution_count": 20,
     "metadata": {},
     "output_type": "execute_result"
    }
   ],
   "source": [
    "[x.mean() for x in cv_results]"
   ]
  },
  {
   "cell_type": "code",
   "execution_count": 13,
   "metadata": {},
   "outputs": [
    {
     "data": {
      "text/plain": [
       "[0.2585997256658158,\n",
       " 0.25766505487754066,\n",
       " 0.2868909077515506,\n",
       " 0.24170269609292255]"
      ]
     },
     "execution_count": 13,
     "metadata": {},
     "output_type": "execute_result"
    }
   ],
   "source": [
    "[x.mean() for x in cv_results]"
   ]
  },
  {
   "cell_type": "code",
   "execution_count": 17,
   "metadata": {},
   "outputs": [
    {
     "data": {
      "text/plain": [
       "[0.22605016497596156,\n",
       " 0.21092278719397362,\n",
       " 0.28688010043942247,\n",
       " 0.19200944414253787]"
      ]
     },
     "execution_count": 17,
     "metadata": {},
     "output_type": "execute_result"
    }
   ],
   "source": [
    "[x.min() for x in cv_results]"
   ]
  },
  {
   "cell_type": "code",
   "execution_count": 14,
   "metadata": {},
   "outputs": [
    {
     "data": {
      "text/plain": [
       "[0.02923751581925276,\n",
       " 0.031138680758617115,\n",
       " 2.1614624256138803e-05,\n",
       " 0.035678579965796424]"
      ]
     },
     "execution_count": 14,
     "metadata": {},
     "output_type": "execute_result"
    }
   ],
   "source": [
    "[x.std() for x in cv_results]"
   ]
  },
  {
   "cell_type": "code",
   "execution_count": 3,
   "metadata": {},
   "outputs": [],
   "source": [
    "from sklearn.preprocessing import LabelEncoder,StandardScaler\n",
    "\n",
    "ss = StandardScaler()\n",
    "X_train = ss.fit_transform(X_train)"
   ]
  },
  {
   "cell_type": "code",
   "execution_count": null,
   "metadata": {},
   "outputs": [],
   "source": []
  },
  {
   "cell_type": "code",
   "execution_count": 6,
   "metadata": {},
   "outputs": [
    {
     "data": {
      "text/plain": [
       "array([[-0.2613606 , -0.28358421,  0.3550371 , ...,  0.57383819,\n",
       "         0.70870286,  0.63336308],\n",
       "       [ 0.32708497,  0.56579247,  1.73966347, ..., -1.74265154,\n",
       "         0.70870286,  0.63336308],\n",
       "       [-0.13059492,  0.56579247,  1.73966347, ..., -1.74265154,\n",
       "         0.70870286,  0.63336308],\n",
       "       ...,\n",
       "       [-1.6997831 , -0.28358421,  1.73966347, ...,  0.57383819,\n",
       "         0.70870286, -1.57887322],\n",
       "       [-0.13059492,  2.26454583, -1.02958927, ...,  0.57383819,\n",
       "        -1.41102859,  0.63336308],\n",
       "       [ 0.58861633,  1.41516915, -1.02958927, ...,  0.57383819,\n",
       "         0.70870286, -1.57887322]])"
      ]
     },
     "execution_count": 6,
     "metadata": {},
     "output_type": "execute_result"
    }
   ],
   "source": [
    "X_train"
   ]
  },
  {
   "cell_type": "code",
   "execution_count": 7,
   "metadata": {},
   "outputs": [],
   "source": [
    "cb = CatBoostClassifier(max_depth=10, auto_class_weights='Balanced', n_estimators=10)\n",
    "# svc = SVC(class_weight='balanced')\n",
    "knn = KNeighborsClassifier()\n",
    "et = ExtraTreesClassifier(max_depth=10, n_estimators=10, class_weight='balanced')\n",
    "ab = AdaBoostClassifier(DecisionTreeClassifier(random_state=random_state, max_depth=10, \n",
    "                                               class_weight='balanced'),\n",
    "                        random_state=random_state,learning_rate=0.1)\n",
    "mlp = MLPClassifier()"
   ]
  },
  {
   "cell_type": "code",
   "execution_count": 32,
   "metadata": {},
   "outputs": [],
   "source": [
    "model = VotingClassifier([('catboost', cb),\n",
    "                          ('SVC', svc), \n",
    "                          ('KNN', knn), \n",
    "                          ('Extra Trees', et), \n",
    "                          ('AdaBoost', ab),\n",
    "                          ('MLP', mlp)], n_jobs=-1, verbose=True)"
   ]
  },
  {
   "cell_type": "code",
   "execution_count": 6,
   "metadata": {},
   "outputs": [],
   "source": [
    "cv_score = cross_val_score(ab,\n",
    "                          X_train, y = Y_train, \n",
    "                          scoring = make_scorer(f1_score, average='macro'), \n",
    "                          cv = kfold, n_jobs=-1)"
   ]
  },
  {
   "cell_type": "code",
   "execution_count": 7,
   "metadata": {},
   "outputs": [
    {
     "data": {
      "text/plain": [
       "array([0.29571927, 0.28525755, 0.28471109, 0.27897608, 0.29387609,\n",
       "       0.26527577, 0.25853374, 0.2721672 , 0.24946889, 0.2948778 ])"
      ]
     },
     "execution_count": 7,
     "metadata": {},
     "output_type": "execute_result"
    }
   ],
   "source": [
    "cv_score"
   ]
  },
  {
   "cell_type": "code",
   "execution_count": null,
   "metadata": {},
   "outputs": [],
   "source": [
    "model.fit(X_train, Y_train)"
   ]
  },
  {
   "cell_type": "code",
   "execution_count": null,
   "metadata": {},
   "outputs": [],
   "source": []
  }
 ],
 "metadata": {
  "kernelspec": {
   "display_name": "Python 3",
   "language": "python",
   "name": "python3"
  },
  "language_info": {
   "codemirror_mode": {
    "name": "ipython",
    "version": 3
   },
   "file_extension": ".py",
   "mimetype": "text/x-python",
   "name": "python",
   "nbconvert_exporter": "python",
   "pygments_lexer": "ipython3",
   "version": "3.6.8"
  }
 },
 "nbformat": 4,
 "nbformat_minor": 4
}
