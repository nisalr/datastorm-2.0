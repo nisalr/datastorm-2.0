{
 "cells": [
  {
   "cell_type": "markdown",
   "metadata": {},
   "source": [
    "# Import packages and data"
   ]
  },
  {
   "cell_type": "code",
   "execution_count": 24,
   "metadata": {},
   "outputs": [],
   "source": [
    "import pandas as pd\n",
    "import numpy as np\n",
    "from pandas_profiling import ProfileReport\n",
    "from sklearn.metrics import classification_report, f1_score, make_scorer\n",
    "from sklearn.model_selection import train_test_split, GridSearchCV, cross_val_score, StratifiedKFold, PredefinedSplit\n",
    "\n",
    "from sklearn.tree import DecisionTreeClassifier\n",
    "from sklearn.ensemble import RandomForestClassifier, ExtraTreesClassifier, \\\n",
    "    AdaBoostClassifier, ExtraTreesClassifier, GradientBoostingClassifier, VotingClassifier\n",
    "from sklearn.svm import SVC\n",
    "from sklearn.neighbors import KNeighborsClassifier\n",
    "from xgboost import XGBClassifier\n",
    "from lightgbm import LGBMClassifier\n",
    "from catboost import CatBoostClassifier, Pool\n",
    "from sklearn.linear_model import LogisticRegression\n",
    "from sklearn.discriminant_analysis import LinearDiscriminantAnalysis\n",
    "from sklearn.neural_network import MLPClassifier\n",
    "\n",
    "from sklearn.preprocessing import LabelEncoder\n",
    "from category_encoders import OrdinalEncoder, OneHotEncoder, TargetEncoder\n",
    "\n",
    "from imblearn.over_sampling import SMOTE\n",
    "from sklearn.utils.class_weight import compute_class_weight\n",
    "import shap\n",
    "import itertools as it\n",
    "\n",
    "\n",
    "PREPROCESSED_TRAIN_FILE = '../data/preprocessed_train_only_Mar13_0700pm_label_enc.csv'\n",
    "PREPROCESSED_VAL_FILE = '../data/preprocessed_val_only_Mar13_0700pm_label_enc.csv'\n",
    "\n",
    "SUBMISSION_SET = '../data/submission_preprocessed_train_val_Mar13_0130pm_label_enc.csv'\n",
    "\n",
    "df = pd.read_csv(PREPROCESSED_TRAIN_FILE, index_col='Reservation-id')\n",
    "df_val = pd.read_csv(PREPROCESSED_VAL_FILE, index_col='Reservation-id')\n",
    "df_sub = pd.read_csv(SUBMISSION_SET, index_col='Reservation-id')\n",
    "# RandomForest\n",
    "# Extra Trees\n",
    "# SVC\n",
    "# LightGBM\n",
    "\n",
    "df = df.sample(frac=1)\n",
    "# df = df.sample(1000)\n",
    "X_train = df.drop(columns='Reservation_Status')\n",
    "Y_train = df['Reservation_Status']\n",
    "\n",
    "X_val = df_val.drop(columns='Reservation_Status')\n",
    "Y_val = df_val['Reservation_Status']"
   ]
  },
  {
   "cell_type": "code",
   "execution_count": 10,
   "metadata": {},
   "outputs": [],
   "source": [
    "df_train_val = pd.concat([df, df_val], axis=0)"
   ]
  },
  {
   "cell_type": "code",
   "execution_count": 35,
   "metadata": {},
   "outputs": [],
   "source": [
    "X_train_val = df_train_val.drop(columns='Reservation_Status')\n",
    "Y_train_val = df_train_val['Reservation_Status']"
   ]
  },
  {
   "cell_type": "code",
   "execution_count": 30,
   "metadata": {},
   "outputs": [],
   "source": [
    "train_indices = [-1 for i in range(df.shape[0])]\n",
    "val_indices = [0 for i in range(df_val.shape[0])]\n",
    "split = train_indices + val_indices\n",
    "pr_split = PredefinedSplit(test_fold=np.array(split))"
   ]
  },
  {
   "cell_type": "markdown",
   "metadata": {},
   "source": [
    "# LGBM"
   ]
  },
  {
   "cell_type": "code",
   "execution_count": null,
   "metadata": {},
   "outputs": [
    {
     "name": "stdout",
     "output_type": "stream",
     "text": [
      "Fitting 1 folds for each of 216 candidates, totalling 216 fits\n"
     ]
    }
   ],
   "source": [
    "LGBM = LGBMClassifier()\n",
    "lgbm_param_grid = {\n",
    "              'n_estimators' : [800,1200,1600],\n",
    "              'learning_rate': [0.1, 0.01],\n",
    "              'max_depth': [4, 6, 8, 10],\n",
    "              'min_child_samples': [100, 200, 300],\n",
    "              'num_leaves': [7, 16, 24] ,\n",
    "              'class_weight':['balanced']\n",
    "              }\n",
    "\n",
    "gsLGBM = GridSearchCV(LGBM,param_grid = lgbm_param_grid, \n",
    "                      cv=pr_split, \n",
    "                      scoring=make_scorer(f1_score, average='macro'), \n",
    "                      n_jobs= 8, \n",
    "                      verbose = 1)\n",
    "\n",
    "gsLGBM.fit(X_train_val,Y_train_val)"
   ]
  },
  {
   "cell_type": "code",
   "execution_count": 39,
   "metadata": {},
   "outputs": [
    {
     "data": {
      "text/plain": [
       "{'class_weight': 'balanced',\n",
       " 'learning_rate': 0.1,\n",
       " 'max_depth': 10,\n",
       " 'min_child_samples': 200,\n",
       " 'n_estimators': 800,\n",
       " 'num_leaves': 16}"
      ]
     },
     "execution_count": 39,
     "metadata": {},
     "output_type": "execute_result"
    }
   ],
   "source": [
    "gsLGBM.best_params_"
   ]
  },
  {
   "cell_type": "code",
   "execution_count": 6,
   "metadata": {},
   "outputs": [],
   "source": [
    "lgbm = LGBMClassifier(learning_rate=0.1, max_depth=10, min_child_samples=100, n_estimators=800, num_leaves=16, random_state=2)\n"
   ]
  },
  {
   "cell_type": "code",
   "execution_count": null,
   "metadata": {},
   "outputs": [],
   "source": [
    "allNames = sorted(my_dict)\n",
    "combinations = it.product(*(my_dict[Name] for Name in allNames))"
   ]
  },
  {
   "cell_type": "code",
   "execution_count": 9,
   "metadata": {},
   "outputs": [
    {
     "name": "stdout",
     "output_type": "stream",
     "text": [
      "(800, 0.1, 9, 200, 16, 'balanced')\n",
      "(800, 0.1, 9, 200, 24, 'balanced')\n",
      "(800, 0.1, 9, 300, 16, 'balanced')\n",
      "(800, 0.1, 9, 300, 24, 'balanced')\n",
      "(800, 0.1, 10, 200, 16, 'balanced')\n",
      "(800, 0.1, 10, 200, 24, 'balanced')\n",
      "(800, 0.1, 10, 300, 16, 'balanced')\n",
      "(800, 0.1, 10, 300, 24, 'balanced')\n",
      "(1000, 0.1, 9, 200, 16, 'balanced')\n",
      "(1000, 0.1, 9, 200, 24, 'balanced')\n",
      "(1000, 0.1, 9, 300, 16, 'balanced')\n",
      "(1000, 0.1, 9, 300, 24, 'balanced')\n",
      "(1000, 0.1, 10, 200, 16, 'balanced')\n",
      "(1000, 0.1, 10, 200, 24, 'balanced')\n",
      "(1000, 0.1, 10, 300, 16, 'balanced')\n",
      "(1000, 0.1, 10, 300, 24, 'balanced')\n",
      "(1200, 0.1, 9, 200, 16, 'balanced')\n",
      "(1200, 0.1, 9, 200, 24, 'balanced')\n",
      "(1200, 0.1, 9, 300, 16, 'balanced')\n",
      "(1200, 0.1, 9, 300, 24, 'balanced')\n",
      "(1200, 0.1, 10, 200, 16, 'balanced')\n",
      "(1200, 0.1, 10, 200, 24, 'balanced')\n",
      "(1200, 0.1, 10, 300, 16, 'balanced')\n",
      "(1200, 0.1, 10, 300, 24, 'balanced')\n"
     ]
    }
   ],
   "source": [
    "for i in it.product(*lgbm_param_grid.values()):\n",
    "    print(i)"
   ]
  },
  {
   "cell_type": "code",
   "execution_count": 6,
   "metadata": {},
   "outputs": [],
   "source": [
    "classes=[1,2,3]\n",
    "cl_weights = compute_class_weight('balanced', classes=classes, y=Y_train)\n",
    "weights = Y_train.map(dict(zip(classes, cl_weights))).values"
   ]
  },
  {
   "cell_type": "code",
   "execution_count": 7,
   "metadata": {},
   "outputs": [],
   "source": [
    "lgbm = LGBMClassifier(learning_rate=0.1, max_depth=10, min_child_samples=100, n_estimators=800, num_leaves=16, random_state=2)\n",
    "etc = ExtraTreesClassifier(max_depth=10)\n",
    "rf = RandomForestClassifier(bootstrap=False, criterion='gini', max_depth=None, max_features=10, min_samples_leaf=10, min_samples_split=2, n_estimators=300)\n",
    "xgb = XGBClassifier(learning_rate=0.2, max_delta_step=0, max_depth=4, min_child_weight=1, n_estimators=800)\n",
    "dt = DecisionTreeClassifier(criterion='gini', max_depth=4)\n",
    "cb = CatBoostClassifier(learning_rate= 0.1, max_depth= 8, min_child_samples= 100, n_estimators= 800, num_leaves= 16, grow_policy=\"Lossguide\")\n",
    "ab = AdaBoostClassifier(DecisionTreeClassifier(random_state=random_state, max_depth=5), random_state=random_state, learning_rate=0.1, n_estimators=200)"
   ]
  },
  {
   "cell_type": "code",
   "execution_count": 8,
   "metadata": {},
   "outputs": [],
   "source": [
    "voting_class = VotingClassifier([('lgbm', lgbm), ('etc', etc), ('rf', rf), ('dt', dt), ('ab', ab), ('cb', cb), ('xgb', xgb)], n_jobs=-1, voting='soft')"
   ]
  },
  {
   "cell_type": "code",
   "execution_count": 20,
   "metadata": {},
   "outputs": [
    {
     "data": {
      "text/plain": [
       "LGBMClassifier(max_depth=10, min_child_samples=100, n_estimators=800,\n",
       "               num_leaves=16, random_state=2)"
      ]
     },
     "execution_count": 20,
     "metadata": {},
     "output_type": "execute_result"
    }
   ],
   "source": [
    "lgbm.fit(X_train, Y_train, sample_weight=weights)"
   ]
  },
  {
   "cell_type": "code",
   "execution_count": 21,
   "metadata": {},
   "outputs": [],
   "source": [
    "pred_y = lgbm.predict(X_val)"
   ]
  },
  {
   "cell_type": "code",
   "execution_count": 22,
   "metadata": {},
   "outputs": [
    {
     "data": {
      "text/plain": [
       "0.31215140664370916"
      ]
     },
     "execution_count": 22,
     "metadata": {},
     "output_type": "execute_result"
    }
   ],
   "source": [
    "f1_score(Y_val, pred_y, average='macro')"
   ]
  },
  {
   "cell_type": "code",
   "execution_count": 123,
   "metadata": {},
   "outputs": [
    {
     "data": {
      "text/plain": [
       "Index(['Gender', 'Age', 'Ethnicity', 'Educational_Level', 'Income',\n",
       "       'Country_region', 'Hotel_Type', 'Adults', 'Children', 'Babies',\n",
       "       'Meal_Type', 'Visted_Previously', 'Previous_Cancellations',\n",
       "       'Deposit_type', 'Booking_channel', 'Required_Car_Parking',\n",
       "       'Use_Promotion', 'Discount_Rate', 'Room_Rate', 'stay_length',\n",
       "       'income_amount', 'num_rooms', 'total_cost', 'income_ratio',\n",
       "       'adults_to_child', 'adults_to_babies', 'total_people', 'checkin_day',\n",
       "       'checkin_week', 'checkin_dayofweek', 'checkin_month', 'checkin_year',\n",
       "       'days_to_booking', 'days_to_stay_ratio', 'Reservation_Status'],\n",
       "      dtype='object')"
      ]
     },
     "execution_count": 123,
     "metadata": {},
     "output_type": "execute_result"
    }
   ],
   "source": [
    "df_sub.columns"
   ]
  },
  {
   "cell_type": "code",
   "execution_count": 149,
   "metadata": {},
   "outputs": [],
   "source": [
    "sub_y = voting_class.predict(df_sub)"
   ]
  },
  {
   "cell_type": "code",
   "execution_count": 150,
   "metadata": {},
   "outputs": [
    {
     "data": {
      "text/plain": [
       "array([2, 3, 1, ..., 2, 1, 1], dtype=int64)"
      ]
     },
     "execution_count": 150,
     "metadata": {},
     "output_type": "execute_result"
    }
   ],
   "source": [
    "sub_y"
   ]
  },
  {
   "cell_type": "code",
   "execution_count": 151,
   "metadata": {},
   "outputs": [],
   "source": [
    "df_sub['Reservation_Status'] = sub_y"
   ]
  },
  {
   "cell_type": "code",
   "execution_count": 152,
   "metadata": {},
   "outputs": [
    {
     "data": {
      "text/html": [
       "<div>\n",
       "<style scoped>\n",
       "    .dataframe tbody tr th:only-of-type {\n",
       "        vertical-align: middle;\n",
       "    }\n",
       "\n",
       "    .dataframe tbody tr th {\n",
       "        vertical-align: top;\n",
       "    }\n",
       "\n",
       "    .dataframe thead th {\n",
       "        text-align: right;\n",
       "    }\n",
       "</style>\n",
       "<table border=\"1\" class=\"dataframe\">\n",
       "  <thead>\n",
       "    <tr style=\"text-align: right;\">\n",
       "      <th></th>\n",
       "      <th>Gender</th>\n",
       "      <th>Age</th>\n",
       "      <th>Ethnicity</th>\n",
       "      <th>Educational_Level</th>\n",
       "      <th>Income</th>\n",
       "      <th>Country_region</th>\n",
       "      <th>Hotel_Type</th>\n",
       "      <th>Adults</th>\n",
       "      <th>Children</th>\n",
       "      <th>Babies</th>\n",
       "      <th>...</th>\n",
       "      <th>adults_to_babies</th>\n",
       "      <th>total_people</th>\n",
       "      <th>checkin_day</th>\n",
       "      <th>checkin_week</th>\n",
       "      <th>checkin_dayofweek</th>\n",
       "      <th>checkin_month</th>\n",
       "      <th>checkin_year</th>\n",
       "      <th>days_to_booking</th>\n",
       "      <th>days_to_stay_ratio</th>\n",
       "      <th>Reservation_Status</th>\n",
       "    </tr>\n",
       "    <tr>\n",
       "      <th>Reservation-id</th>\n",
       "      <th></th>\n",
       "      <th></th>\n",
       "      <th></th>\n",
       "      <th></th>\n",
       "      <th></th>\n",
       "      <th></th>\n",
       "      <th></th>\n",
       "      <th></th>\n",
       "      <th></th>\n",
       "      <th></th>\n",
       "      <th></th>\n",
       "      <th></th>\n",
       "      <th></th>\n",
       "      <th></th>\n",
       "      <th></th>\n",
       "      <th></th>\n",
       "      <th></th>\n",
       "      <th></th>\n",
       "      <th></th>\n",
       "      <th></th>\n",
       "      <th></th>\n",
       "    </tr>\n",
       "  </thead>\n",
       "  <tbody>\n",
       "    <tr>\n",
       "      <th>62931593</th>\n",
       "      <td>1</td>\n",
       "      <td>52</td>\n",
       "      <td>1</td>\n",
       "      <td>1</td>\n",
       "      <td>4</td>\n",
       "      <td>3</td>\n",
       "      <td>1</td>\n",
       "      <td>3</td>\n",
       "      <td>3</td>\n",
       "      <td>0</td>\n",
       "      <td>...</td>\n",
       "      <td>0.000000</td>\n",
       "      <td>6</td>\n",
       "      <td>18</td>\n",
       "      <td>46</td>\n",
       "      <td>4</td>\n",
       "      <td>11</td>\n",
       "      <td>2016</td>\n",
       "      <td>21</td>\n",
       "      <td>21.000000</td>\n",
       "      <td>2</td>\n",
       "    </tr>\n",
       "    <tr>\n",
       "      <th>70586099</th>\n",
       "      <td>1</td>\n",
       "      <td>47</td>\n",
       "      <td>1</td>\n",
       "      <td>1</td>\n",
       "      <td>4</td>\n",
       "      <td>2</td>\n",
       "      <td>2</td>\n",
       "      <td>2</td>\n",
       "      <td>1</td>\n",
       "      <td>0</td>\n",
       "      <td>...</td>\n",
       "      <td>0.000000</td>\n",
       "      <td>3</td>\n",
       "      <td>18</td>\n",
       "      <td>46</td>\n",
       "      <td>4</td>\n",
       "      <td>11</td>\n",
       "      <td>2016</td>\n",
       "      <td>104</td>\n",
       "      <td>104.000000</td>\n",
       "      <td>3</td>\n",
       "    </tr>\n",
       "    <tr>\n",
       "      <th>4230648</th>\n",
       "      <td>1</td>\n",
       "      <td>28</td>\n",
       "      <td>4</td>\n",
       "      <td>1</td>\n",
       "      <td>1</td>\n",
       "      <td>2</td>\n",
       "      <td>1</td>\n",
       "      <td>2</td>\n",
       "      <td>2</td>\n",
       "      <td>0</td>\n",
       "      <td>...</td>\n",
       "      <td>0.000000</td>\n",
       "      <td>4</td>\n",
       "      <td>28</td>\n",
       "      <td>17</td>\n",
       "      <td>4</td>\n",
       "      <td>4</td>\n",
       "      <td>2017</td>\n",
       "      <td>20</td>\n",
       "      <td>6.666667</td>\n",
       "      <td>1</td>\n",
       "    </tr>\n",
       "    <tr>\n",
       "      <th>25192322</th>\n",
       "      <td>1</td>\n",
       "      <td>65</td>\n",
       "      <td>2</td>\n",
       "      <td>4</td>\n",
       "      <td>4</td>\n",
       "      <td>3</td>\n",
       "      <td>2</td>\n",
       "      <td>1</td>\n",
       "      <td>3</td>\n",
       "      <td>2</td>\n",
       "      <td>...</td>\n",
       "      <td>2.000000</td>\n",
       "      <td>6</td>\n",
       "      <td>18</td>\n",
       "      <td>46</td>\n",
       "      <td>4</td>\n",
       "      <td>11</td>\n",
       "      <td>2016</td>\n",
       "      <td>182</td>\n",
       "      <td>91.000000</td>\n",
       "      <td>2</td>\n",
       "    </tr>\n",
       "    <tr>\n",
       "      <th>80931528</th>\n",
       "      <td>2</td>\n",
       "      <td>45</td>\n",
       "      <td>3</td>\n",
       "      <td>3</td>\n",
       "      <td>4</td>\n",
       "      <td>3</td>\n",
       "      <td>1</td>\n",
       "      <td>3</td>\n",
       "      <td>1</td>\n",
       "      <td>0</td>\n",
       "      <td>...</td>\n",
       "      <td>0.000000</td>\n",
       "      <td>4</td>\n",
       "      <td>18</td>\n",
       "      <td>46</td>\n",
       "      <td>4</td>\n",
       "      <td>11</td>\n",
       "      <td>2016</td>\n",
       "      <td>18</td>\n",
       "      <td>9.000000</td>\n",
       "      <td>1</td>\n",
       "    </tr>\n",
       "    <tr>\n",
       "      <th>...</th>\n",
       "      <td>...</td>\n",
       "      <td>...</td>\n",
       "      <td>...</td>\n",
       "      <td>...</td>\n",
       "      <td>...</td>\n",
       "      <td>...</td>\n",
       "      <td>...</td>\n",
       "      <td>...</td>\n",
       "      <td>...</td>\n",
       "      <td>...</td>\n",
       "      <td>...</td>\n",
       "      <td>...</td>\n",
       "      <td>...</td>\n",
       "      <td>...</td>\n",
       "      <td>...</td>\n",
       "      <td>...</td>\n",
       "      <td>...</td>\n",
       "      <td>...</td>\n",
       "      <td>...</td>\n",
       "      <td>...</td>\n",
       "      <td>...</td>\n",
       "    </tr>\n",
       "    <tr>\n",
       "      <th>39110574</th>\n",
       "      <td>2</td>\n",
       "      <td>53</td>\n",
       "      <td>1</td>\n",
       "      <td>3</td>\n",
       "      <td>2</td>\n",
       "      <td>3</td>\n",
       "      <td>3</td>\n",
       "      <td>3</td>\n",
       "      <td>3</td>\n",
       "      <td>1</td>\n",
       "      <td>...</td>\n",
       "      <td>0.333333</td>\n",
       "      <td>7</td>\n",
       "      <td>29</td>\n",
       "      <td>13</td>\n",
       "      <td>2</td>\n",
       "      <td>3</td>\n",
       "      <td>2017</td>\n",
       "      <td>199</td>\n",
       "      <td>199.000000</td>\n",
       "      <td>3</td>\n",
       "    </tr>\n",
       "    <tr>\n",
       "      <th>5496554</th>\n",
       "      <td>1</td>\n",
       "      <td>63</td>\n",
       "      <td>2</td>\n",
       "      <td>3</td>\n",
       "      <td>2</td>\n",
       "      <td>3</td>\n",
       "      <td>3</td>\n",
       "      <td>3</td>\n",
       "      <td>3</td>\n",
       "      <td>0</td>\n",
       "      <td>...</td>\n",
       "      <td>0.000000</td>\n",
       "      <td>6</td>\n",
       "      <td>29</td>\n",
       "      <td>13</td>\n",
       "      <td>2</td>\n",
       "      <td>3</td>\n",
       "      <td>2017</td>\n",
       "      <td>47</td>\n",
       "      <td>15.666667</td>\n",
       "      <td>1</td>\n",
       "    </tr>\n",
       "    <tr>\n",
       "      <th>59004046</th>\n",
       "      <td>1</td>\n",
       "      <td>59</td>\n",
       "      <td>2</td>\n",
       "      <td>1</td>\n",
       "      <td>1</td>\n",
       "      <td>2</td>\n",
       "      <td>2</td>\n",
       "      <td>2</td>\n",
       "      <td>3</td>\n",
       "      <td>0</td>\n",
       "      <td>...</td>\n",
       "      <td>0.000000</td>\n",
       "      <td>5</td>\n",
       "      <td>29</td>\n",
       "      <td>13</td>\n",
       "      <td>2</td>\n",
       "      <td>3</td>\n",
       "      <td>2017</td>\n",
       "      <td>215</td>\n",
       "      <td>215.000000</td>\n",
       "      <td>2</td>\n",
       "    </tr>\n",
       "    <tr>\n",
       "      <th>65838682</th>\n",
       "      <td>2</td>\n",
       "      <td>43</td>\n",
       "      <td>3</td>\n",
       "      <td>3</td>\n",
       "      <td>4</td>\n",
       "      <td>4</td>\n",
       "      <td>3</td>\n",
       "      <td>4</td>\n",
       "      <td>2</td>\n",
       "      <td>1</td>\n",
       "      <td>...</td>\n",
       "      <td>0.250000</td>\n",
       "      <td>7</td>\n",
       "      <td>29</td>\n",
       "      <td>13</td>\n",
       "      <td>2</td>\n",
       "      <td>3</td>\n",
       "      <td>2017</td>\n",
       "      <td>25</td>\n",
       "      <td>25.000000</td>\n",
       "      <td>1</td>\n",
       "    </tr>\n",
       "    <tr>\n",
       "      <th>14474101</th>\n",
       "      <td>1</td>\n",
       "      <td>33</td>\n",
       "      <td>3</td>\n",
       "      <td>2</td>\n",
       "      <td>2</td>\n",
       "      <td>1</td>\n",
       "      <td>1</td>\n",
       "      <td>2</td>\n",
       "      <td>3</td>\n",
       "      <td>0</td>\n",
       "      <td>...</td>\n",
       "      <td>0.000000</td>\n",
       "      <td>5</td>\n",
       "      <td>29</td>\n",
       "      <td>13</td>\n",
       "      <td>2</td>\n",
       "      <td>3</td>\n",
       "      <td>2017</td>\n",
       "      <td>0</td>\n",
       "      <td>0.000000</td>\n",
       "      <td>1</td>\n",
       "    </tr>\n",
       "  </tbody>\n",
       "</table>\n",
       "<p>4318 rows × 35 columns</p>\n",
       "</div>"
      ],
      "text/plain": [
       "                Gender  Age  Ethnicity  Educational_Level  Income  \\\n",
       "Reservation-id                                                      \n",
       "62931593             1   52          1                  1       4   \n",
       "70586099             1   47          1                  1       4   \n",
       "4230648              1   28          4                  1       1   \n",
       "25192322             1   65          2                  4       4   \n",
       "80931528             2   45          3                  3       4   \n",
       "...                ...  ...        ...                ...     ...   \n",
       "39110574             2   53          1                  3       2   \n",
       "5496554              1   63          2                  3       2   \n",
       "59004046             1   59          2                  1       1   \n",
       "65838682             2   43          3                  3       4   \n",
       "14474101             1   33          3                  2       2   \n",
       "\n",
       "                Country_region  Hotel_Type  Adults  Children  Babies  ...  \\\n",
       "Reservation-id                                                        ...   \n",
       "62931593                     3           1       3         3       0  ...   \n",
       "70586099                     2           2       2         1       0  ...   \n",
       "4230648                      2           1       2         2       0  ...   \n",
       "25192322                     3           2       1         3       2  ...   \n",
       "80931528                     3           1       3         1       0  ...   \n",
       "...                        ...         ...     ...       ...     ...  ...   \n",
       "39110574                     3           3       3         3       1  ...   \n",
       "5496554                      3           3       3         3       0  ...   \n",
       "59004046                     2           2       2         3       0  ...   \n",
       "65838682                     4           3       4         2       1  ...   \n",
       "14474101                     1           1       2         3       0  ...   \n",
       "\n",
       "                adults_to_babies  total_people  checkin_day  checkin_week  \\\n",
       "Reservation-id                                                              \n",
       "62931593                0.000000             6           18            46   \n",
       "70586099                0.000000             3           18            46   \n",
       "4230648                 0.000000             4           28            17   \n",
       "25192322                2.000000             6           18            46   \n",
       "80931528                0.000000             4           18            46   \n",
       "...                          ...           ...          ...           ...   \n",
       "39110574                0.333333             7           29            13   \n",
       "5496554                 0.000000             6           29            13   \n",
       "59004046                0.000000             5           29            13   \n",
       "65838682                0.250000             7           29            13   \n",
       "14474101                0.000000             5           29            13   \n",
       "\n",
       "                checkin_dayofweek  checkin_month  checkin_year  \\\n",
       "Reservation-id                                                   \n",
       "62931593                        4             11          2016   \n",
       "70586099                        4             11          2016   \n",
       "4230648                         4              4          2017   \n",
       "25192322                        4             11          2016   \n",
       "80931528                        4             11          2016   \n",
       "...                           ...            ...           ...   \n",
       "39110574                        2              3          2017   \n",
       "5496554                         2              3          2017   \n",
       "59004046                        2              3          2017   \n",
       "65838682                        2              3          2017   \n",
       "14474101                        2              3          2017   \n",
       "\n",
       "                days_to_booking  days_to_stay_ratio  Reservation_Status  \n",
       "Reservation-id                                                           \n",
       "62931593                     21           21.000000                   2  \n",
       "70586099                    104          104.000000                   3  \n",
       "4230648                      20            6.666667                   1  \n",
       "25192322                    182           91.000000                   2  \n",
       "80931528                     18            9.000000                   1  \n",
       "...                         ...                 ...                 ...  \n",
       "39110574                    199          199.000000                   3  \n",
       "5496554                      47           15.666667                   1  \n",
       "59004046                    215          215.000000                   2  \n",
       "65838682                     25           25.000000                   1  \n",
       "14474101                      0            0.000000                   1  \n",
       "\n",
       "[4318 rows x 35 columns]"
      ]
     },
     "execution_count": 152,
     "metadata": {},
     "output_type": "execute_result"
    }
   ],
   "source": [
    "df_sub"
   ]
  },
  {
   "cell_type": "code",
   "execution_count": 155,
   "metadata": {},
   "outputs": [],
   "source": [
    "df_sub.Reservation_Status.to_frame().to_csv('../output/submission_csv_voting_with_xgb_13Mar_0634pm.csv')"
   ]
  },
  {
   "cell_type": "code",
   "execution_count": null,
   "metadata": {},
   "outputs": [],
   "source": []
  }
 ],
 "metadata": {
  "kernelspec": {
   "display_name": "Python 3",
   "language": "python",
   "name": "python3"
  },
  "language_info": {
   "codemirror_mode": {
    "name": "ipython",
    "version": 3
   },
   "file_extension": ".py",
   "mimetype": "text/x-python",
   "name": "python",
   "nbconvert_exporter": "python",
   "pygments_lexer": "ipython3",
   "version": "3.6.8"
  }
 },
 "nbformat": 4,
 "nbformat_minor": 4
}
