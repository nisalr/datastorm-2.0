{
 "cells": [
  {
   "cell_type": "markdown",
   "metadata": {},
   "source": [
    "# Import Packages"
   ]
  },
  {
   "cell_type": "code",
   "execution_count": 41,
   "metadata": {},
   "outputs": [],
   "source": [
    "import pandas as pd\n",
    "import numpy as np\n",
    "from pandas_profiling import ProfileReport\n",
    "from catboost import CatBoostClassifier, Pool\n",
    "from sklearn.metrics import classification_report, f1_score\n",
    "from sklearn.model_selection import train_test_split\n",
    "from sklearn.preprocessing import LabelEncoder\n",
    "from category_encoders import OrdinalEncoder, OneHotEncoder\n",
    "from sklearn.ensemble import RandomForestClassifier\n",
    "from xgboost import XGBClassifier\n",
    "from lightgbm import LGBMClassifier"
   ]
  },
  {
   "cell_type": "code",
   "execution_count": 59,
   "metadata": {},
   "outputs": [],
   "source": [
    "LABEL_COL = 'Reservation_Status'"
   ]
  },
  {
   "cell_type": "code",
   "execution_count": 2,
   "metadata": {},
   "outputs": [],
   "source": [
    "TRAIN_SET = '../data/Hotel-A-train.csv'\n",
    "VAL_SET = '../data/Hotel-A-validation.csv'"
   ]
  },
  {
   "cell_type": "code",
   "execution_count": 180,
   "metadata": {},
   "outputs": [],
   "source": [
    "df = pd.read_csv(TRAIN_SET, index_col='Reservation-id', parse_dates=['Expected_checkin', 'Expected_checkout'])"
   ]
  },
  {
   "cell_type": "code",
   "execution_count": 181,
   "metadata": {},
   "outputs": [],
   "source": [
    "df_val = pd.read_csv(VAL_SET, index_col='Reservation-id', parse_dates=['Expected_checkin', 'Expected_checkout'])"
   ]
  },
  {
   "cell_type": "markdown",
   "metadata": {},
   "source": [
    "# Data Preprocessing"
   ]
  },
  {
   "cell_type": "markdown",
   "metadata": {},
   "source": [
    "## Drop columns"
   ]
  },
  {
   "cell_type": "raw",
   "metadata": {},
   "source": [
    "df['stay_duration'] = (df.Expected_checkout - df.Expected_checkin).dt.days\n",
    "df_val['stay_duration'] = (df_val.Expected_checkout - df_val.Expected_checkin).dt.days"
   ]
  },
  {
   "cell_type": "code",
   "execution_count": 182,
   "metadata": {},
   "outputs": [],
   "source": [
    "df = df.drop(columns=['Expected_checkin', 'Expected_checkout', 'Booking_date'])\n",
    "df_val = df_val.drop(columns=['Expected_checkin', 'Expected_checkout', 'Booking_date'])"
   ]
  },
  {
   "cell_type": "markdown",
   "metadata": {},
   "source": [
    "## Categorical encoding"
   ]
  },
  {
   "cell_type": "code",
   "execution_count": 183,
   "metadata": {},
   "outputs": [],
   "source": [
    "categorical_features_indices = np.where((df.dtypes != np.float) & (df.dtypes != np.int64))[0]"
   ]
  },
  {
   "cell_type": "code",
   "execution_count": 184,
   "metadata": {},
   "outputs": [],
   "source": [
    "cat_cols = list(set(df.columns[categorical_features_indices].to_list()) - set([LABEL_COL]))"
   ]
  },
  {
   "cell_type": "code",
   "execution_count": 185,
   "metadata": {},
   "outputs": [],
   "source": [
    "le = OneHotEncoder(cols=cat_cols)"
   ]
  },
  {
   "cell_type": "code",
   "execution_count": 186,
   "metadata": {},
   "outputs": [
    {
     "data": {
      "text/plain": [
       "OneHotEncoder(cols=['Educational_Level', 'Gender', 'Income', 'Hotel_Type',\n",
       "                    'Meal_Type', 'Use_Promotion', 'Previous_Cancellations',\n",
       "                    'Country_region', 'Ethnicity', 'Required_Car_Parking',\n",
       "                    'Visted_Previously', 'Deposit_type', 'Booking_channel'],\n",
       "              drop_invariant=False, handle_missing='value',\n",
       "              handle_unknown='value', return_df=True, use_cat_names=False,\n",
       "              verbose=0)"
      ]
     },
     "execution_count": 186,
     "metadata": {},
     "output_type": "execute_result"
    }
   ],
   "source": [
    "le.fit(df)"
   ]
  },
  {
   "cell_type": "code",
   "execution_count": 187,
   "metadata": {},
   "outputs": [],
   "source": [
    "df = le.transform(df)\n",
    "df_val = le.transform(df_val)"
   ]
  },
  {
   "cell_type": "markdown",
   "metadata": {},
   "source": [
    "# Create Train/Test Dataset"
   ]
  },
  {
   "cell_type": "code",
   "execution_count": 188,
   "metadata": {},
   "outputs": [],
   "source": [
    "X = df.drop(columns='Reservation_Status')\n",
    "y = df['Reservation_Status']"
   ]
  },
  {
   "cell_type": "code",
   "execution_count": 189,
   "metadata": {},
   "outputs": [],
   "source": [
    "val_X = df_val.drop(columns='Reservation_Status')\n",
    "val_y = df_val['Reservation_Status']"
   ]
  },
  {
   "cell_type": "code",
   "execution_count": 190,
   "metadata": {},
   "outputs": [],
   "source": [
    "train_X, test_X, train_y, test_y = train_test_split(X, y, test_size=0.2, random_state=42)"
   ]
  },
  {
   "cell_type": "code",
   "execution_count": 191,
   "metadata": {},
   "outputs": [
    {
     "data": {
      "text/plain": [
       "array([ 0,  2,  3,  4,  5,  6, 10, 11, 12, 13, 14, 15, 16, 17],\n",
       "      dtype=int64)"
      ]
     },
     "execution_count": 191,
     "metadata": {},
     "output_type": "execute_result"
    }
   ],
   "source": [
    "categorical_features_indices"
   ]
  },
  {
   "cell_type": "code",
   "execution_count": 192,
   "metadata": {},
   "outputs": [
    {
     "data": {
      "text/plain": [
       "Gender_1                     int64\n",
       "Gender_2                     int64\n",
       "Age                          int64\n",
       "Ethnicity_1                  int64\n",
       "Ethnicity_2                  int64\n",
       "Ethnicity_3                  int64\n",
       "Ethnicity_4                  int64\n",
       "Educational_Level_1          int64\n",
       "Educational_Level_2          int64\n",
       "Educational_Level_3          int64\n",
       "Educational_Level_4          int64\n",
       "Income_1                     int64\n",
       "Income_2                     int64\n",
       "Income_3                     int64\n",
       "Income_4                     int64\n",
       "Country_region_1             int64\n",
       "Country_region_2             int64\n",
       "Country_region_3             int64\n",
       "Country_region_4             int64\n",
       "Hotel_Type_1                 int64\n",
       "Hotel_Type_2                 int64\n",
       "Hotel_Type_3                 int64\n",
       "Adults                       int64\n",
       "Children                     int64\n",
       "Babies                       int64\n",
       "Meal_Type_1                  int64\n",
       "Meal_Type_2                  int64\n",
       "Meal_Type_3                  int64\n",
       "Visted_Previously_1          int64\n",
       "Visted_Previously_2          int64\n",
       "Previous_Cancellations_1     int64\n",
       "Previous_Cancellations_2     int64\n",
       "Deposit_type_1               int64\n",
       "Deposit_type_2               int64\n",
       "Deposit_type_3               int64\n",
       "Booking_channel_1            int64\n",
       "Booking_channel_2            int64\n",
       "Booking_channel_3            int64\n",
       "Required_Car_Parking_1       int64\n",
       "Required_Car_Parking_2       int64\n",
       "Reservation_Status          object\n",
       "Use_Promotion_1              int64\n",
       "Use_Promotion_2              int64\n",
       "Discount_Rate                int64\n",
       "Room_Rate                    int64\n",
       "dtype: object"
      ]
     },
     "execution_count": 192,
     "metadata": {},
     "output_type": "execute_result"
    }
   ],
   "source": [
    "df.dtypes"
   ]
  },
  {
   "cell_type": "markdown",
   "metadata": {},
   "source": [
    "# Model Training"
   ]
  },
  {
   "cell_type": "code",
   "execution_count": 201,
   "metadata": {},
   "outputs": [],
   "source": [
    "model = LGBMClassifier(n_estimators=5000, n_jobs=-1, max_depth=4, class_weight='balanced', num_leaves=7)"
   ]
  },
  {
   "cell_type": "code",
   "execution_count": 202,
   "metadata": {},
   "outputs": [
    {
     "data": {
      "text/plain": [
       "LGBMClassifier(boosting_type='gbdt', class_weight='balanced',\n",
       "               colsample_bytree=1.0, importance_type='split', learning_rate=0.1,\n",
       "               max_depth=4, min_child_samples=20, min_child_weight=0.001,\n",
       "               min_split_gain=0.0, n_estimators=5000, n_jobs=-1, num_leaves=7,\n",
       "               objective=None, random_state=None, reg_alpha=0.0, reg_lambda=0.0,\n",
       "               silent=True, subsample=1.0, subsample_for_bin=200000,\n",
       "               subsample_freq=0)"
      ]
     },
     "execution_count": 202,
     "metadata": {},
     "output_type": "execute_result"
    }
   ],
   "source": [
    "model.fit(train_X, train_y)"
   ]
  },
  {
   "cell_type": "markdown",
   "metadata": {},
   "source": [
    "# Model Evaluation"
   ]
  },
  {
   "cell_type": "code",
   "execution_count": 203,
   "metadata": {},
   "outputs": [],
   "source": [
    "pred_y = model.predict(test_X)\n",
    "pred_y_train = model.predict(train_X)\n",
    "pred_y_val = model.predict(val_X)"
   ]
  },
  {
   "cell_type": "code",
   "execution_count": 204,
   "metadata": {},
   "outputs": [
    {
     "name": "stdout",
     "output_type": "stream",
     "text": [
      "              precision    recall  f1-score   support\n",
      "\n",
      "    Canceled       0.19      0.28      0.22       810\n",
      "    Check-In       0.80      0.69      0.74      4267\n",
      "     No-Show       0.10      0.14      0.11       423\n",
      "\n",
      "    accuracy                           0.59      5500\n",
      "   macro avg       0.36      0.37      0.36      5500\n",
      "weighted avg       0.66      0.59      0.62      5500\n",
      "\n"
     ]
    }
   ],
   "source": [
    "print(classification_report(test_y, pred_y))"
   ]
  },
  {
   "cell_type": "code",
   "execution_count": 205,
   "metadata": {},
   "outputs": [
    {
     "name": "stdout",
     "output_type": "stream",
     "text": [
      "0.8061936893692124\n"
     ]
    }
   ],
   "source": [
    "print(f1_score(train_y, pred_y_train, average='macro'))"
   ]
  },
  {
   "cell_type": "code",
   "execution_count": 206,
   "metadata": {},
   "outputs": [
    {
     "name": "stdout",
     "output_type": "stream",
     "text": [
      "0.36039211468571564\n"
     ]
    }
   ],
   "source": [
    "print(f1_score(test_y, pred_y, average='macro'))"
   ]
  },
  {
   "cell_type": "code",
   "execution_count": 207,
   "metadata": {},
   "outputs": [
    {
     "name": "stdout",
     "output_type": "stream",
     "text": [
      "0.3396155976802225\n"
     ]
    }
   ],
   "source": [
    "print(f1_score(val_y, pred_y_val, average='macro'))"
   ]
  },
  {
   "cell_type": "code",
   "execution_count": 200,
   "metadata": {},
   "outputs": [
    {
     "data": {
      "text/plain": [
       "Room_Rate                   4290\n",
       "Age                         3095\n",
       "Discount_Rate               1030\n",
       "Adults                       931\n",
       "Children                     623\n",
       "Babies                       359\n",
       "Educational_Level_1          292\n",
       "Required_Car_Parking_1       290\n",
       "Booking_channel_1            275\n",
       "Hotel_Type_2                 274\n",
       "Meal_Type_2                  265\n",
       "Income_4                     264\n",
       "Previous_Cancellations_1     262\n",
       "Country_region_3             257\n",
       "Educational_Level_2          252\n",
       "Use_Promotion_1              251\n",
       "Income_1                     250\n",
       "Ethnicity_2                  237\n",
       "Educational_Level_3          235\n",
       "Educational_Level_4          235\n",
       "Hotel_Type_1                 234\n",
       "Gender_1                     233\n",
       "Meal_Type_1                  230\n",
       "Meal_Type_3                  227\n",
       "Deposit_type_3               225\n",
       "Deposit_type_2               225\n",
       "Visted_Previously_1          223\n",
       "Ethnicity_3                  217\n",
       "Ethnicity_4                  212\n",
       "Country_region_4             210\n",
       "Ethnicity_1                  208\n",
       "Income_2                     206\n",
       "Hotel_Type_3                 204\n",
       "Income_3                     204\n",
       "Booking_channel_3            200\n",
       "Country_region_1             194\n",
       "Country_region_2             187\n",
       "Booking_channel_2            178\n",
       "Deposit_type_1               178\n",
       "Visted_Previously_2           19\n",
       "Required_Car_Parking_2         7\n",
       "Gender_2                       5\n",
       "Use_Promotion_2                4\n",
       "Previous_Cancellations_2       3\n",
       "dtype: int32"
      ]
     },
     "execution_count": 200,
     "metadata": {},
     "output_type": "execute_result"
    }
   ],
   "source": [
    "pd.Series(model.feature_importances_, index=train_X.columns).sort_values(ascending=False)"
   ]
  },
  {
   "cell_type": "code",
   "execution_count": null,
   "metadata": {},
   "outputs": [],
   "source": []
  }
 ],
 "metadata": {
  "kernelspec": {
   "display_name": "Python 3",
   "language": "python",
   "name": "python3"
  },
  "language_info": {
   "codemirror_mode": {
    "name": "ipython",
    "version": 3
   },
   "file_extension": ".py",
   "mimetype": "text/x-python",
   "name": "python",
   "nbconvert_exporter": "python",
   "pygments_lexer": "ipython3",
   "version": "3.6.8"
  }
 },
 "nbformat": 4,
 "nbformat_minor": 4
}
