{
 "cells": [
  {
   "cell_type": "markdown",
   "metadata": {},
   "source": [
    "# Import Packages"
   ]
  },
  {
   "cell_type": "code",
   "execution_count": 1,
   "metadata": {},
   "outputs": [],
   "source": [
    "import pandas as pd\n",
    "import numpy as np\n",
    "from pandas_profiling import ProfileReport\n",
    "from catboost import CatBoostClassifier, Pool\n",
    "from sklearn.metrics import classification_report, f1_score, make_scorer\n",
    "from sklearn.model_selection import train_test_split, cross_val_score, StratifiedKFold\n",
    "from sklearn.preprocessing import LabelEncoder\n",
    "from sklearn.svm import SVC\n",
    "from category_encoders import OrdinalEncoder, OneHotEncoder, TargetEncoder\n",
    "from sklearn.ensemble import RandomForestClassifier, ExtraTreesClassifier\n",
    "from xgboost import XGBClassifier\n",
    "from lightgbm import LGBMClassifier\n",
    "from imblearn.over_sampling import SMOTE\n",
    "from sklearn.utils.class_weight import compute_class_weight\n",
    "import shap\n"
   ]
  },
  {
   "cell_type": "code",
   "execution_count": 2,
   "metadata": {},
   "outputs": [],
   "source": [
    "LABEL_COL = 'Reservation_Status'"
   ]
  },
  {
   "cell_type": "code",
   "execution_count": 3,
   "metadata": {},
   "outputs": [],
   "source": [
    "TRAIN_SET = '../data/Hotel-A-train.csv'\n",
    "VAL_SET = '../data/Hotel-A-validation.csv'\n",
    "TEST_SET = '../data/Hotel-A-test.csv'"
   ]
  },
  {
   "cell_type": "code",
   "execution_count": 4,
   "metadata": {},
   "outputs": [],
   "source": [
    "df = pd.read_csv(TRAIN_SET, index_col='Reservation-id', \n",
    "                 parse_dates=['Expected_checkin', 'Expected_checkout', 'Booking_date'])\n",
    "df_val = pd.read_csv(VAL_SET, index_col='Reservation-id', \n",
    "                     parse_dates=['Expected_checkin', 'Expected_checkout', 'Booking_date'])\n",
    "df_test = pd.read_csv(TEST_SET, index_col='Reservation-id', \n",
    "                      parse_dates=['Expected_checkin', 'Expected_checkout', 'Booking_date'])"
   ]
  },
  {
   "cell_type": "raw",
   "metadata": {},
   "source": [
    "df = pd.concat([df, df_val], axis=0)"
   ]
  },
  {
   "cell_type": "raw",
   "metadata": {},
   "source": [
    "df_val1, df_val2 = train_test_split(df_val, test_size=0.5)"
   ]
  },
  {
   "cell_type": "raw",
   "metadata": {},
   "source": [
    "df_val = df_val1\n",
    "df = pd.concat([df, df_val2], axis=0)"
   ]
  },
  {
   "cell_type": "markdown",
   "metadata": {},
   "source": [
    "# Data Preprocessing"
   ]
  },
  {
   "cell_type": "code",
   "execution_count": 5,
   "metadata": {},
   "outputs": [],
   "source": [
    "df[LABEL_COL] = df[LABEL_COL].map({'Check-In':1, 'Canceled':2, 'No-Show':3}).astype(int)\n",
    "df_val[LABEL_COL] = df_val[LABEL_COL].map({'Check-In':1, 'Canceled':2, 'No-Show':3}).astype(int)"
   ]
  },
  {
   "cell_type": "markdown",
   "metadata": {},
   "source": [
    "## Feature Engineering"
   ]
  },
  {
   "cell_type": "code",
   "execution_count": 6,
   "metadata": {},
   "outputs": [],
   "source": [
    "df['stay_length'] = (df.Expected_checkout - df.Expected_checkin).dt.days\n",
    "df_val['stay_length'] = (df_val.Expected_checkout - df_val.Expected_checkin).dt.days\n",
    "df_test['stay_length'] = (df_test.Expected_checkout - df_test.Expected_checkin).dt.days"
   ]
  },
  {
   "cell_type": "code",
   "execution_count": 7,
   "metadata": {},
   "outputs": [],
   "source": [
    "df['income_amount'] = df.Income.map({'<25K':25, '50K -- 100K':100, '25K --50K':50, '>100K':200})\n",
    "df_val['income_amount'] = df_val.Income.map({'<25K':25, '50K -- 100K':100, '25K --50K':50, '>100K':200})\n",
    "df_test['income_amount'] = df_test.Income.map({'<25K':25, '50K -- 100K':100, '25K --50K':50, '>100K':200})"
   ]
  },
  {
   "cell_type": "code",
   "execution_count": 8,
   "metadata": {},
   "outputs": [],
   "source": [
    "df['num_rooms'] = np.ceil((df.Adults + df.Children)/5).astype(int)\n",
    "df_val['num_rooms'] = np.ceil((df_val.Adults + df_val.Children)/5).astype(int)\n",
    "df_test['num_rooms'] = np.ceil((df_test.Adults + df_test.Children)/5).astype(int)"
   ]
  },
  {
   "cell_type": "code",
   "execution_count": 9,
   "metadata": {},
   "outputs": [],
   "source": [
    "df['total_cost'] = df.num_rooms*df.Room_Rate*df.stay_length\n",
    "df_val['total_cost'] = df_val.num_rooms*df_val.Room_Rate*df_val.stay_length\n",
    "df_test['total_cost'] = df_test.num_rooms*df_test.Room_Rate*(1 - df_test.Discount_Rate/100)*df_test.stay_length"
   ]
  },
  {
   "cell_type": "code",
   "execution_count": 10,
   "metadata": {},
   "outputs": [],
   "source": [
    "df['income_ratio'] = df.income_amount/df.total_cost\n",
    "df_val['income_ratio'] = df_val.income_amount/df_val.total_cost\n",
    "df_test['income_ratio'] = df_test.income_amount/df_test.total_cost"
   ]
  },
  {
   "cell_type": "code",
   "execution_count": 11,
   "metadata": {},
   "outputs": [],
   "source": [
    "df['adults_to_child'] = df.Children/df.Adults\n",
    "df['adults_to_babies'] = df.Children/df.Adults\n",
    "df['total_people'] = df.Adults + df.Children + df.Babies\n",
    "\n",
    "df_val['adults_to_child'] = df_val.Children/df_val.Adults\n",
    "df_val['adults_to_babies'] = df_val.Children/df_val.Adults\n",
    "df_val['total_people'] = df_val.Adults + df_val.Children + df_val.Babies\n",
    "\n",
    "df_test['adults_to_child'] = df_test.Children/df_test.Adults\n",
    "df_test['adults_to_babies'] = df_test.Babies/df_test.Adults\n",
    "df_test['total_people'] = df_test.Adults + df_test.Children + df_test.Babies"
   ]
  },
  {
   "cell_type": "code",
   "execution_count": 12,
   "metadata": {},
   "outputs": [
    {
     "data": {
      "text/plain": [
       "Reservation-id\n",
       "39428300    2015\n",
       "77491756    2015\n",
       "73747291    2015\n",
       "67301739    2015\n",
       "77222321    2015\n",
       "            ... \n",
       "15645505    2016\n",
       "56414525    2016\n",
       "52023375    2016\n",
       "98041387    2016\n",
       "55243988    2016\n",
       "Name: Expected_checkin, Length: 27499, dtype: int64"
      ]
     },
     "execution_count": 12,
     "metadata": {},
     "output_type": "execute_result"
    }
   ],
   "source": [
    "df.Expected_checkin.dt.year"
   ]
  },
  {
   "cell_type": "code",
   "execution_count": 13,
   "metadata": {},
   "outputs": [],
   "source": [
    "# df['checkin_month'] = df.Expected_checkin.dt.month\n",
    "df['checkin_day'] = df.Expected_checkin.dt.day\n",
    "df['checkin_week'] = df.Expected_checkin.dt.week\n",
    "df['checkin_dayofweek'] = df.Expected_checkin.dt.dayofweek\n",
    "df['checkin_month'] = df.Expected_checkin.dt.month\n",
    "df['checkin_year'] = df.Expected_checkin.dt.year\n",
    "\n",
    "# df_val['checkin_month'] = df_val.Expected_checkin.dt.month\n",
    "df_val['checkin_day'] = df_val.Expected_checkin.dt.day\n",
    "df_val['checkin_week'] = df_val.Expected_checkin.dt.week\n",
    "df_val['checkin_dayofweek'] = df_val.Expected_checkin.dt.dayofweek\n",
    "df_val['checkin_month'] = df_val.Expected_checkin.dt.month\n",
    "df_val['checkin_year'] = df_val.Expected_checkin.dt.year\n",
    "\n",
    "# df_test['checkin_month'] = df_test.Expected_checkin.dt.month\n",
    "df_test['checkin_day'] = df_test.Expected_checkin.dt.day\n",
    "df_test['checkin_week'] = df_test.Expected_checkin.dt.week\n",
    "df_test['checkin_dayofweek'] = df_test.Expected_checkin.dt.dayofweek\n",
    "df_test['checkin_month'] = df_test.Expected_checkin.dt.month\n",
    "df_test['checkin_year'] = df_test.Expected_checkin.dt.year"
   ]
  },
  {
   "cell_type": "code",
   "execution_count": 14,
   "metadata": {},
   "outputs": [],
   "source": [
    "df['days_to_booking'] = (df.Expected_checkin - df.Booking_date).dt.days.clip(lower=0)\n",
    "df_val['days_to_booking'] = (df_val.Expected_checkin - df_val.Booking_date).dt.days.clip(lower=0)\n",
    "df_test['days_to_booking'] = (df_test.Expected_checkin - df_test.Booking_date).dt.days.clip(lower=0)"
   ]
  },
  {
   "cell_type": "code",
   "execution_count": 15,
   "metadata": {},
   "outputs": [],
   "source": [
    "df['days_to_stay_ratio'] = df.days_to_booking / df.stay_length \n",
    "df_val['days_to_stay_ratio'] = df_val.days_to_booking / df_val.stay_length \n",
    "df_test['days_to_stay_ratio'] = df_test.days_to_booking / df_test.stay_length "
   ]
  },
  {
   "cell_type": "markdown",
   "metadata": {},
   "source": [
    "## Drop columns"
   ]
  },
  {
   "cell_type": "raw",
   "metadata": {},
   "source": [
    "df_test.to_csv('../data/preprocessed_test.csv')"
   ]
  },
  {
   "cell_type": "code",
   "execution_count": 16,
   "metadata": {},
   "outputs": [],
   "source": [
    "drop_cols = ['Expected_checkin', 'Expected_checkout', 'Booking_date']"
   ]
  },
  {
   "cell_type": "code",
   "execution_count": 17,
   "metadata": {},
   "outputs": [],
   "source": [
    "df = df.drop(columns=drop_cols)\n",
    "df_val = df_val.drop(columns=drop_cols)\n",
    "df_test = df_test.drop(columns=drop_cols)"
   ]
  },
  {
   "cell_type": "code",
   "execution_count": 18,
   "metadata": {},
   "outputs": [],
   "source": [
    "df_test[LABEL_COL] = 'abc'"
   ]
  },
  {
   "cell_type": "markdown",
   "metadata": {},
   "source": [
    "## Categorical encoding"
   ]
  },
  {
   "cell_type": "code",
   "execution_count": 19,
   "metadata": {},
   "outputs": [],
   "source": [
    "categorical_features_indices = np.where((df.dtypes != np.float) & (df.dtypes != np.int64)  & (df.dtypes != np.int32))[0]"
   ]
  },
  {
   "cell_type": "code",
   "execution_count": 20,
   "metadata": {},
   "outputs": [],
   "source": [
    "cat_cols = list(set(df.columns[categorical_features_indices].to_list()) - set([LABEL_COL]))"
   ]
  },
  {
   "cell_type": "raw",
   "metadata": {},
   "source": [
    "le_target = OneHotEncoder(cols=[LABEL_COL], use_cat_names=True)\n",
    "le_target.fit(df[[LABEL_COL]].astype(str))\n",
    "df_l = le_target.transform(df[[LABEL_COL]].astype(str))\n",
    "class_names = df_l.columns\n",
    "\n",
    "df_cat = df[cat_cols]\n",
    "df = df.drop(columns=cat_cols)\n",
    "t_enc_dict = {}\n",
    "for cl in class_names:\n",
    "    enc = TargetEncoder()\n",
    "    enc.fit(df_cat, df_l[cl])\n",
    "    t_enc_dict[cl] = enc\n",
    "    temp = t_enc_dict[cl].transform(df_cat)\n",
    "    temp.columns = [str(x)+'_'+str(cl) for x in temp.columns]\n",
    "    df = pd.concat([df, temp], axis=1)"
   ]
  },
  {
   "cell_type": "raw",
   "metadata": {},
   "source": [
    "df_cat = df_val[cat_cols]\n",
    "df_val = df_val.drop(columns=cat_cols)\n",
    "for cl in class_names:\n",
    "    temp = t_enc_dict[cl].transform(df_cat)\n",
    "    temp.columns = [str(x)+'_'+str(cl) for x in temp.columns]\n",
    "    df_val = pd.concat([df_val, temp], axis=1)"
   ]
  },
  {
   "cell_type": "raw",
   "metadata": {},
   "source": [
    "df_cat = df_test[cat_cols]\n",
    "df_test = df_test.drop(columns=cat_cols)\n",
    "for cl in class_names:\n",
    "    temp = t_enc_dict[cl].transform(df_cat)\n",
    "    temp.columns = [str(x)+'_'+str(cl) for x in temp.columns]\n",
    "    df_test = pd.concat([df_test, temp], axis=1)"
   ]
  },
  {
   "cell_type": "raw",
   "metadata": {},
   "source": [
    "def target_encode_multiclass(X,y): #X,y are pandas df and series\n",
    "    y=y.astype(str)   #convert to string to onehot encode\n",
    "    enc=ce.OneHotEncoder().fit(y)\n",
    "    y_onehot=enc.transform(y)\n",
    "    class_names=y_onehot.columns  #names of onehot encoded columns\n",
    "    X_obj=X.select_dtypes('object') #separate categorical columns\n",
    "    X=X.select_dtypes(exclude='object') \n",
    "    for class_ in class_names:\n",
    "      \n",
    "        enc=ce.TargetEncoder()\n",
    "        enc.fit(X_obj,y_onehot[class_]) #convert all categorical \n",
    "        temp=enc.transform(X_obj)       #columns for class_\n",
    "        temp.columns=[str(x)+'_'+str(class_) for x in temp.columns]\n",
    "        X=pd.concat([X,temp],axis=1)    #add to original dataset\n",
    "      \n",
    "    return X"
   ]
  },
  {
   "cell_type": "raw",
   "metadata": {},
   "source": [
    "bin_cols = ['Required_Car_Parking', 'Required_Car_Parking', 'Visted_Previously', 'Use_Promotion', 'Previous_Cancellations']"
   ]
  },
  {
   "cell_type": "raw",
   "metadata": {},
   "source": [
    "multi_cols = list(set(cat_cols) - set(bin_cols))"
   ]
  },
  {
   "cell_type": "code",
   "execution_count": 21,
   "metadata": {},
   "outputs": [],
   "source": [
    "onehot_enc = OrdinalEncoder(cols=cat_cols)\n",
    "onehot_enc.fit(df)\n",
    "\n",
    "df = onehot_enc.transform(df)\n",
    "df_val = onehot_enc.transform(df_val)\n",
    "df_test = onehot_enc.transform(df_test)"
   ]
  },
  {
   "cell_type": "raw",
   "metadata": {},
   "source": [
    "l_enc = OrdinalEncoder(cols=bin_cols)\n",
    "l_enc.fit(df)\n",
    "\n",
    "df = l_enc.transform(df)\n",
    "df_val = l_enc.transform(df_val)\n",
    "df_test = l_enc.transform(df_test)"
   ]
  },
  {
   "cell_type": "raw",
   "metadata": {},
   "source": [
    "df[cat_cols] = df[cat_cols].astype('category')\n",
    "df_val[cat_cols] = df_val[cat_cols].astype('category')\n",
    "df_test[cat_cols] = df_test[cat_cols].astype('category')"
   ]
  },
  {
   "cell_type": "markdown",
   "metadata": {},
   "source": [
    "## Drop encoded categorical"
   ]
  },
  {
   "cell_type": "raw",
   "metadata": {},
   "source": [
    "drop_cat = ['Deposit_type_Reservation_Status_3', 'Gender_Reservation_Status_3',\n",
    "       'Educational_Level_Reservation_Status_3',\n",
    "       'Booking_channel_Reservation_Status_3',\n",
    "       'Visted_Previously_Reservation_Status_3', 'Income_Reservation_Status_3',\n",
    "       'Ethnicity_Reservation_Status_3',\n",
    "       'Previous_Cancellations_Reservation_Status_2',\n",
    "       'Required_Car_Parking_Reservation_Status_2',\n",
    "       'Income_Reservation_Status_2', 'Gender_Reservation_Status_2',\n",
    "       'Visted_Previously_Reservation_Status_2',\n",
    "       'Booking_channel_Reservation_Status_2',\n",
    "       'Hotel_Type_Reservation_Status_2', 'Meal_Type_Reservation_Status_2',\n",
    "       'Previous_Cancellations_Reservation_Status_3',\n",
    "       'Required_Car_Parking_Reservation_Status_3',\n",
    "       'Meal_Type_Reservation_Status_3']"
   ]
  },
  {
   "cell_type": "raw",
   "metadata": {},
   "source": [
    "df = df.drop(columns=drop_cat)\n",
    "df_val = df_val.drop(columns=drop_cat)\n",
    "df_test = df_test.drop(columns=drop_cat)"
   ]
  },
  {
   "cell_type": "code",
   "execution_count": 22,
   "metadata": {},
   "outputs": [],
   "source": [
    "df.to_csv('../data/preprocessed_train_only_Mar13_0700pm_label_enc.csv')\n",
    "df_val.to_csv('../data/preprocessed_val_only_Mar13_0700pm_label_enc.csv')"
   ]
  },
  {
   "cell_type": "markdown",
   "metadata": {},
   "source": [
    "# Create Train/Test Dataset"
   ]
  },
  {
   "cell_type": "code",
   "execution_count": 325,
   "metadata": {},
   "outputs": [],
   "source": [
    "X = df.drop(columns='Reservation_Status')\n",
    "y = df['Reservation_Status']"
   ]
  },
  {
   "cell_type": "code",
   "execution_count": 326,
   "metadata": {},
   "outputs": [],
   "source": [
    "val_X = df_val.drop(columns='Reservation_Status')\n",
    "val_y = df_val['Reservation_Status']"
   ]
  },
  {
   "cell_type": "code",
   "execution_count": 327,
   "metadata": {},
   "outputs": [],
   "source": [
    "sub_X = df_test.drop(columns='Reservation_Status')"
   ]
  },
  {
   "cell_type": "code",
   "execution_count": 328,
   "metadata": {},
   "outputs": [],
   "source": [
    "train_X = X\n",
    "train_y = y"
   ]
  },
  {
   "cell_type": "raw",
   "metadata": {},
   "source": [
    "train_X, test_X, train_y, test_y = train_test_split(X, y, test_size=0.2, random_state=42)"
   ]
  },
  {
   "cell_type": "markdown",
   "metadata": {},
   "source": [
    "## Oversample using SMOTE"
   ]
  },
  {
   "cell_type": "raw",
   "metadata": {},
   "source": [
    "train_y.value_counts()"
   ]
  },
  {
   "cell_type": "raw",
   "metadata": {},
   "source": [
    "oversample = SMOTE()\n",
    "train_X, train_y = oversample.fit_resample(train_X, train_y)"
   ]
  },
  {
   "cell_type": "markdown",
   "metadata": {},
   "source": [
    "# Model Training"
   ]
  },
  {
   "cell_type": "raw",
   "metadata": {},
   "source": [
    "classes=[1,2,3]\n",
    "cl_weights = compute_class_weight('balanced', classes=classes, y=train_y)\n",
    "weights = y.map(dict(zip(classes, cl_weights))).values"
   ]
  },
  {
   "cell_type": "raw",
   "metadata": {},
   "source": [
    "model = XGBClassifier(n_estimators=200, n_jobs=-1, max_depth=6, scale_pos_weight=cl_weights)"
   ]
  },
  {
   "cell_type": "raw",
   "metadata": {},
   "source": [
    "model.fit(train_X, train_y, sample_weight=weights)"
   ]
  },
  {
   "cell_type": "raw",
   "metadata": {},
   "source": [
    "model = CatBoostClassifier(n_estimators=100, max_depth=4, auto_class_weights='Balanced')"
   ]
  },
  {
   "cell_type": "raw",
   "metadata": {},
   "source": [
    "model=SVC(class_weight='balanced')"
   ]
  },
  {
   "cell_type": "code",
   "execution_count": 329,
   "metadata": {},
   "outputs": [],
   "source": [
    "model = LGBMClassifier(class_weight='balanced', learning_rate=0.1, max_depth=10, min_child_samples=100, n_estimators=800, num_leaves=16, random_state=2)"
   ]
  },
  {
   "cell_type": "raw",
   "metadata": {},
   "source": [
    "model = RandomForestClassifier(n_estimators=1000, n_jobs=-1, max_depth=6, class_weight='balanced')"
   ]
  },
  {
   "cell_type": "raw",
   "metadata": {},
   "source": [
    "model = ExtraTreesClassifier(n_estimators=1000, max_depth=10, class_weight='balanced')"
   ]
  },
  {
   "cell_type": "raw",
   "metadata": {},
   "source": [
    "model.fit(train_X, train_y)"
   ]
  },
  {
   "cell_type": "code",
   "execution_count": null,
   "metadata": {},
   "outputs": [],
   "source": []
  },
  {
   "cell_type": "code",
   "execution_count": 204,
   "metadata": {},
   "outputs": [
    {
     "data": {
      "text/plain": [
       "LGBMClassifier(class_weight='balanced', learning_rate=0.01, max_depth=3,\n",
       "               min_child_samples=100, n_estimators=5000, num_leaves=7,\n",
       "               random_state=2)"
      ]
     },
     "execution_count": 204,
     "metadata": {},
     "output_type": "execute_result"
    }
   ],
   "source": [
    "model.fit(train_X, train_y, verbose=0)"
   ]
  },
  {
   "cell_type": "markdown",
   "metadata": {},
   "source": [
    "## Cross Validation"
   ]
  },
  {
   "cell_type": "code",
   "execution_count": 330,
   "metadata": {},
   "outputs": [],
   "source": [
    "kfold = StratifiedKFold(n_splits=5, shuffle=True)\n",
    "random_state = 2"
   ]
  },
  {
   "cell_type": "code",
   "execution_count": 331,
   "metadata": {},
   "outputs": [],
   "source": [
    "cv_result = cross_val_score(model,\n",
    "                      train_X, y=train_y, \n",
    "                      scoring = make_scorer(f1_score, average='macro'), \n",
    "                      cv = kfold, n_jobs=-1)"
   ]
  },
  {
   "cell_type": "code",
   "execution_count": 332,
   "metadata": {},
   "outputs": [
    {
     "data": {
      "text/plain": [
       "0.3883964493073498"
      ]
     },
     "execution_count": 332,
     "metadata": {},
     "output_type": "execute_result"
    }
   ],
   "source": [
    "cv_result.mean()"
   ]
  },
  {
   "cell_type": "code",
   "execution_count": 334,
   "metadata": {},
   "outputs": [],
   "source": [
    "sub_X.to_csv('../data/submission_preprocessed_train_val_Mar13_0130pm_label_enc.csv')"
   ]
  },
  {
   "cell_type": "code",
   "execution_count": 226,
   "metadata": {},
   "outputs": [
    {
     "data": {
      "text/plain": [
       "0.1590868038775749"
      ]
     },
     "execution_count": 226,
     "metadata": {},
     "output_type": "execute_result"
    }
   ],
   "source": [
    "cv_result.mean()"
   ]
  },
  {
   "cell_type": "code",
   "execution_count": 216,
   "metadata": {},
   "outputs": [
    {
     "data": {
      "text/plain": [
       "array([0.37763483, 0.37868677, 0.37666098, 0.3682635 , 0.381439  ,\n",
       "       0.37284544])"
      ]
     },
     "execution_count": 216,
     "metadata": {},
     "output_type": "execute_result"
    }
   ],
   "source": [
    "cv_result"
   ]
  },
  {
   "cell_type": "markdown",
   "metadata": {},
   "source": [
    "# Model Evaluation"
   ]
  },
  {
   "cell_type": "code",
   "execution_count": 205,
   "metadata": {},
   "outputs": [],
   "source": [
    "pred_y = model.predict(test_X)\n",
    "pred_y_train = model.predict(train_X)\n",
    "pred_y_val = model.predict(val_X)"
   ]
  },
  {
   "cell_type": "code",
   "execution_count": 206,
   "metadata": {},
   "outputs": [
    {
     "name": "stdout",
     "output_type": "stream",
     "text": [
      "              precision    recall  f1-score   support\n",
      "\n",
      "           1       0.73      0.23      0.35      1610\n",
      "           2       0.40      0.65      0.50       741\n",
      "           3       0.28      0.73      0.40       398\n",
      "\n",
      "    accuracy                           0.42      2749\n",
      "   macro avg       0.47      0.54      0.42      2749\n",
      "weighted avg       0.58      0.42      0.40      2749\n",
      "\n"
     ]
    }
   ],
   "source": [
    "print(classification_report(val_y, pred_y_val))"
   ]
  },
  {
   "cell_type": "code",
   "execution_count": 207,
   "metadata": {},
   "outputs": [
    {
     "name": "stdout",
     "output_type": "stream",
     "text": [
      "0.5196909768226455\n"
     ]
    }
   ],
   "source": [
    "print(f1_score(train_y, pred_y_train, average='macro'))"
   ]
  },
  {
   "cell_type": "code",
   "execution_count": 209,
   "metadata": {},
   "outputs": [
    {
     "name": "stdout",
     "output_type": "stream",
     "text": [
      "0.3760389196520146\n"
     ]
    }
   ],
   "source": [
    "print(f1_score(test_y, pred_y, average='macro'))"
   ]
  },
  {
   "cell_type": "code",
   "execution_count": 146,
   "metadata": {},
   "outputs": [
    {
     "name": "stdout",
     "output_type": "stream",
     "text": [
      "0.4180360965175169\n"
     ]
    }
   ],
   "source": [
    "print(f1_score(val_y, pred_y_val, average='macro'))"
   ]
  },
  {
   "cell_type": "code",
   "execution_count": 81,
   "metadata": {},
   "outputs": [
    {
     "data": {
      "image/png": "[encoded data removed]",
      "text/plain": [
       "<Figure size 576x684 with 1 Axes>"
      ]
     },
     "metadata": {
      "needs_background": "light"
     },
     "output_type": "display_data"
    }
   ],
   "source": [
    "shap_values = shap.TreeExplainer(model).shap_values(train_X)\n",
    "shap.summary_plot(shap_values, train_X, plot_type=\"bar\")"
   ]
  },
  {
   "cell_type": "code",
   "execution_count": 84,
   "metadata": {},
   "outputs": [
    {
     "data": {
      "image/png": "[encoded data removed]",
      "text/plain": [
       "<Figure size 576x684 with 1 Axes>"
      ]
     },
     "metadata": {
      "needs_background": "light"
     },
     "output_type": "display_data"
    }
   ],
   "source": [
    "shap.summary_plot(shap_values, val_X)"
   ]
  },
  {
   "cell_type": "code",
   "execution_count": 82,
   "metadata": {},
   "outputs": [
    {
     "data": {
      "image/png": "[encoded data removed]",
      "text/plain": [
       "<Figure size 576x684 with 1 Axes>"
      ]
     },
     "metadata": {
      "needs_background": "light"
     },
     "output_type": "display_data"
    }
   ],
   "source": [
    "shap_values = shap.TreeExplainer(model).shap_values(val_X)\n",
    "shap.summary_plot(shap_values, val_X, plot_type=\"bar\")"
   ]
  },
  {
   "cell_type": "code",
   "execution_count": 46,
   "metadata": {},
   "outputs": [],
   "source": [
    "feat_i = pd.Series(model.feature_importances_, index=train_X.columns).sort_values(ascending=False)"
   ]
  },
  {
   "cell_type": "code",
   "execution_count": 47,
   "metadata": {},
   "outputs": [
    {
     "name": "stdout",
     "output_type": "stream",
     "text": [
      "Room_Rate                                      5158\n",
      "total_cost                                     5129\n",
      "Age                                            4632\n",
      "income_ratio                                   4375\n",
      "Discount_Rate                                  2534\n",
      "Meal_Type_Reservation_Status_1                 1738\n",
      "Educational_Level_Reservation_Status_1         1369\n",
      "Adults                                         1097\n",
      "Ethnicity_Reservation_Status_1                  946\n",
      "Children                                        921\n",
      "Hotel_Type_Reservation_Status_1                 895\n",
      "Income_Reservation_Status_1                     774\n",
      "Ethnicity_Reservation_Status_2                  762\n",
      "Country_region_Reservation_Status_1             707\n",
      "Deposit_type_Reservation_Status_1               706\n",
      "Booking_channel_Reservation_Status_1            680\n",
      "Babies                                          670\n",
      "stay_length                                     603\n",
      "Country_region_Reservation_Status_2             409\n",
      "Gender_Reservation_Status_1                     354\n",
      "Visted_Previously_Reservation_Status_1          332\n",
      "Hotel_Type_Reservation_Status_3                 305\n",
      "Country_region_Reservation_Status_3             223\n",
      "Required_Car_Parking_Reservation_Status_1       215\n",
      "income_amount                                   209\n",
      "Deposit_type_Reservation_Status_2               151\n",
      "Previous_Cancellations_Reservation_Status_1     102\n",
      "Educational_Level_Reservation_Status_2            4\n",
      "dtype: int32\n"
     ]
    }
   ],
   "source": [
    "print(feat_i)"
   ]
  },
  {
   "cell_type": "code",
   "execution_count": 841,
   "metadata": {},
   "outputs": [
    {
     "data": {
      "text/plain": [
       "Index(['Deposit_type_Reservation_Status_3', 'Gender_Reservation_Status_3',\n",
       "       'Educational_Level_Reservation_Status_3',\n",
       "       'Booking_channel_Reservation_Status_3',\n",
       "       'Visted_Previously_Reservation_Status_3', 'Income_Reservation_Status_3',\n",
       "       'adults_to_babies', 'Ethnicity_Reservation_Status_3',\n",
       "       'Previous_Cancellations_Reservation_Status_2',\n",
       "       'Required_Car_Parking_Reservation_Status_2',\n",
       "       'Income_Reservation_Status_2', 'Gender_Reservation_Status_2',\n",
       "       'Visted_Previously_Reservation_Status_2',\n",
       "       'Booking_channel_Reservation_Status_2',\n",
       "       'Hotel_Type_Reservation_Status_2', 'Meal_Type_Reservation_Status_2',\n",
       "       'Previous_Cancellations_Reservation_Status_3',\n",
       "       'Required_Car_Parking_Reservation_Status_3',\n",
       "       'Meal_Type_Reservation_Status_3'],\n",
       "      dtype='object')"
      ]
     },
     "execution_count": 841,
     "metadata": {},
     "output_type": "execute_result"
    }
   ],
   "source": [
    "feat_i[feat_i < 5].index"
   ]
  },
  {
   "cell_type": "code",
   "execution_count": 80,
   "metadata": {
    "tags": []
   },
   "outputs": [],
   "source": [
    "sub_y = model.predict(sub_X)\n",
    "\n",
    "df_test['pred_y'] = sub_y\n",
    "sub_s = df_test.pred_y\n",
    "sub_s.name = 'Reservation_status'\n",
    "sub_s.to_frame().to_csv('../output/submission_file_13Mar_02_00_am.csv', header=True)"
   ]
  },
  {
   "cell_type": "code",
   "execution_count": null,
   "metadata": {},
   "outputs": [],
   "source": []
  }
 ],
 "metadata": {
  "kernelspec": {
   "display_name": "Python 3",
   "language": "python",
   "name": "python3"
  },
  "language_info": {
   "codemirror_mode": {
    "name": "ipython",
    "version": 3
   },
   "file_extension": ".py",
   "mimetype": "text/x-python",
   "name": "python",
   "nbconvert_exporter": "python",
   "pygments_lexer": "ipython3",
   "version": "3.6.8"
  }
 },
 "nbformat": 4,
 "nbformat_minor": 4
}
