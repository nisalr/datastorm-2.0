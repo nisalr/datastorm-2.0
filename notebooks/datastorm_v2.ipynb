{
 "cells": [
  {
   "cell_type": "markdown",
   "metadata": {},
   "source": [
    "# Import Packages"
   ]
  },
  {
   "cell_type": "code",
   "execution_count": 1075,
   "metadata": {},
   "outputs": [],
   "source": [
    "import pandas as pd\n",
    "import numpy as np\n",
    "from pandas_profiling import ProfileReport\n",
    "from catboost import CatBoostClassifier, Pool\n",
    "from sklearn.metrics import classification_report, f1_score\n",
    "from sklearn.model_selection import train_test_split\n",
    "from sklearn.preprocessing import LabelEncoder\n",
    "from category_encoders import OrdinalEncoder, OneHotEncoder\n",
    "from sklearn.ensemble import RandomForestClassifier, ExtraTreesClassifier\n",
    "from xgboost import XGBClassifier\n",
    "from lightgbm import LGBMClassifier\n",
    "from imblearn.over_sampling import SMOTE\n",
    "from sklearn.utils.class_weight import compute_class_weight"
   ]
  },
  {
   "cell_type": "code",
   "execution_count": 210,
   "metadata": {},
   "outputs": [],
   "source": [
    "LABEL_COL = 'Reservation_Status'"
   ]
  },
  {
   "cell_type": "code",
   "execution_count": 211,
   "metadata": {},
   "outputs": [],
   "source": [
    "TRAIN_SET = '../data/Hotel-A-train.csv'\n",
    "VAL_SET = '../data/Hotel-A-validation.csv'\n",
    "TEST_SET = '../data/Hotel-A-test.csv'"
   ]
  },
  {
   "cell_type": "code",
   "execution_count": 802,
   "metadata": {},
   "outputs": [],
   "source": [
    "df = pd.read_csv(TRAIN_SET, index_col='Reservation-id', parse_dates=['Expected_checkin', 'Expected_checkout'])\n",
    "df_val = pd.read_csv(VAL_SET, index_col='Reservation-id', parse_dates=['Expected_checkin', 'Expected_checkout'])\n",
    "df_test = pd.read_csv(TEST_SET, index_col='Reservation-id', parse_dates=['Expected_checkin', 'Expected_checkout'])"
   ]
  },
  {
   "cell_type": "raw",
   "metadata": {},
   "source": [
    "df_val1, df_val2 = train_test_split(df_val, test_size=0.5)"
   ]
  },
  {
   "cell_type": "raw",
   "metadata": {},
   "source": [
    "df_val = df_val1\n",
    "df = pd.concat([df, df_val2], axis=0)"
   ]
  },
  {
   "cell_type": "markdown",
   "metadata": {},
   "source": [
    "# Data Preprocessing"
   ]
  },
  {
   "cell_type": "code",
   "execution_count": 803,
   "metadata": {},
   "outputs": [],
   "source": [
    "df[LABEL_COL] = df[LABEL_COL].map({'Check-In':1, 'Canceled':2, 'No-Show':3}).astype(int)\n",
    "df_val[LABEL_COL] = df_val[LABEL_COL].map({'Check-In':1, 'Canceled':2, 'No-Show':3}).astype(int)"
   ]
  },
  {
   "cell_type": "markdown",
   "metadata": {},
   "source": [
    "## Feature Engineering"
   ]
  },
  {
   "cell_type": "code",
   "execution_count": 804,
   "metadata": {},
   "outputs": [],
   "source": [
    "df['income_amount'] = df.Income.map({'<25K':25, '50K -- 100K':100, '25K --50K':50, '>100K':200})\n",
    "df_val['income_amount'] = df_val.Income.map({'<25K':25, '50K -- 100K':100, '25K --50K':50, '>100K':200})\n",
    "df_test['income_amount'] = df_test.Income.map({'<25K':25, '50K -- 100K':100, '25K --50K':50, '>100K':200})"
   ]
  },
  {
   "cell_type": "code",
   "execution_count": 805,
   "metadata": {},
   "outputs": [],
   "source": [
    "df['num_rooms'] = np.ceil((df.Adults + df.Children)/5).astype(int)\n",
    "df_val['num_rooms'] = np.ceil((df_val.Adults + df_val.Children)/5).astype(int)\n",
    "df_test['num_rooms'] = np.ceil((df_test.Adults + df_test.Children)/5).astype(int)"
   ]
  },
  {
   "cell_type": "code",
   "execution_count": 806,
   "metadata": {},
   "outputs": [],
   "source": [
    "df['total_cost'] = df.num_rooms*df.Room_Rate\n",
    "df_val['total_cost'] = df_val.num_rooms*df_val.Room_Rate\n",
    "df_test['total_cost'] = df_test.num_rooms*df_test.Room_Rate*(1 - df_test.Discount_Rate/100)"
   ]
  },
  {
   "cell_type": "code",
   "execution_count": 807,
   "metadata": {},
   "outputs": [],
   "source": [
    "df['income_ratio'] = df.income_amount/df.total_cost\n",
    "df_val['income_ratio'] = df_val.income_amount/df_val.total_cost\n",
    "df_test['income_ratio'] = df_test.income_amount/df_test.total_cost"
   ]
  },
  {
   "cell_type": "code",
   "execution_count": 808,
   "metadata": {},
   "outputs": [],
   "source": [
    "# df['checkin_month'] = df.Expected_checkin.dt.month\n",
    "df['checkin_day'] = df.Expected_checkin.dt.day\n",
    "df['checkin_week'] = df.Expected_checkin.dt.week\n",
    "df['checkin_dayofweek'] = df.Expected_checkin.dt.dayofweek\n",
    "\n",
    "# df_val['checkin_month'] = df_val.Expected_checkin.dt.month\n",
    "df_val['checkin_day'] = df_val.Expected_checkin.dt.day\n",
    "df_val['checkin_week'] = df_val.Expected_checkin.dt.week\n",
    "df_val['checkin_dayofweek'] = df_val.Expected_checkin.dt.dayofweek\n",
    "\n",
    "# df_test['checkin_month'] = df_test.Expected_checkin.dt.month\n",
    "df_test['checkin_day'] = df_test.Expected_checkin.dt.day\n",
    "df_test['checkin_week'] = df_test.Expected_checkin.dt.week\n",
    "df_test['checkin_dayofweek'] = df_test.Expected_checkin.dt.dayofweek"
   ]
  },
  {
   "cell_type": "markdown",
   "metadata": {},
   "source": [
    "## Drop columns"
   ]
  },
  {
   "cell_type": "raw",
   "metadata": {},
   "source": [
    "df['stay_duration'] = (df.Expected_checkout - df.Expected_checkin).dt.days\n",
    "df_val['stay_duration'] = (df_val.Expected_checkout - df_val.Expected_checkin).dt.days"
   ]
  },
  {
   "cell_type": "code",
   "execution_count": 809,
   "metadata": {},
   "outputs": [],
   "source": [
    "drop_cols = ['Expected_checkin', 'Expected_checkout', 'Booking_date', 'num_rooms']"
   ]
  },
  {
   "cell_type": "code",
   "execution_count": 810,
   "metadata": {},
   "outputs": [],
   "source": [
    "df = df.drop(columns=drop_cols)\n",
    "df_val = df_val.drop(columns=drop_cols)\n",
    "df_test = df_test.drop(columns=drop_cols)"
   ]
  },
  {
   "cell_type": "code",
   "execution_count": 811,
   "metadata": {},
   "outputs": [],
   "source": [
    "df_test[LABEL_COL] = 'abc'"
   ]
  },
  {
   "cell_type": "markdown",
   "metadata": {},
   "source": [
    "## Categorical encoding"
   ]
  },
  {
   "cell_type": "code",
   "execution_count": 812,
   "metadata": {},
   "outputs": [],
   "source": [
    "categorical_features_indices = np.where((df.dtypes != np.float) & (df.dtypes != np.int64))[0]"
   ]
  },
  {
   "cell_type": "code",
   "execution_count": 813,
   "metadata": {},
   "outputs": [],
   "source": [
    "cat_cols = list(set(df.columns[categorical_features_indices].to_list()) - set([LABEL_COL]))"
   ]
  },
  {
   "cell_type": "raw",
   "metadata": {},
   "source": [
    "def target_encode_multiclass(X,y): #X,y are pandas df and series\n",
    "    y=y.astype(str)   #convert to string to onehot encode\n",
    "    enc=ce.OneHotEncoder().fit(y)\n",
    "    y_onehot=enc.transform(y)\n",
    "    class_names=y_onehot.columns  #names of onehot encoded columns\n",
    "    X_obj=X.select_dtypes('object') #separate categorical columns\n",
    "    X=X.select_dtypes(exclude='object') \n",
    "    for class_ in class_names:\n",
    "      \n",
    "        enc=ce.TargetEncoder()\n",
    "        enc.fit(X_obj,y_onehot[class_]) #convert all categorical \n",
    "        temp=enc.transform(X_obj)       #columns for class_\n",
    "        temp.columns=[str(x)+'_'+str(class_) for x in temp.columns]\n",
    "        X=pd.concat([X,temp],axis=1)    #add to original dataset\n",
    "      \n",
    "    return X"
   ]
  },
  {
   "cell_type": "code",
   "execution_count": 814,
   "metadata": {},
   "outputs": [],
   "source": [
    "le = OrdinalEncoder(cols=cat_cols)"
   ]
  },
  {
   "cell_type": "code",
   "execution_count": 815,
   "metadata": {},
   "outputs": [
    {
     "data": {
      "text/plain": [
       "OrdinalEncoder(cols=['Required_Car_Parking', 'Hotel_Type', 'Educational_Level',\n",
       "                     'Gender', 'Visted_Previously', 'Country_region',\n",
       "                     'Previous_Cancellations', 'Ethnicity', 'Booking_channel',\n",
       "                     'Deposit_type', 'Income', 'Meal_Type', 'Use_Promotion'],\n",
       "               mapping=[{'col': 'Required_Car_Parking', 'data_type': dtype('O'),\n",
       "                         'mapping': Yes    1\n",
       "No     2\n",
       "NaN   -2\n",
       "dtype: int64},\n",
       "                        {'col': 'Hotel_Type', 'd...\n",
       "                        {'col': 'Deposit_type', 'data_type': dtype('O'),\n",
       "                         'mapping': No Deposit        1\n",
       "Refundable        2\n",
       "Non-Refundable    3\n",
       "NaN              -2\n",
       "dtype: int64},\n",
       "                        {'col': 'Income', 'data_type': dtype('O'),\n",
       "                         'mapping': <25K           1\n",
       "50K -- 100K    2\n",
       ">100K          3\n",
       "25K --50K      4\n",
       "NaN           -2\n",
       "dtype: int64},\n",
       "                        {'col': 'Meal_Type', 'data_type': dtype('O'),\n",
       "                         'mapping': BB     1\n",
       "FB     2\n",
       "HB     3\n",
       "NaN   -2\n",
       "dtype: int64},\n",
       "                        {'col': 'Use_Promotion', 'data_type': dtype('O'),\n",
       "                         'mapping': Yes    1\n",
       "No     2\n",
       "NaN   -2\n",
       "dtype: int64}])"
      ]
     },
     "execution_count": 815,
     "metadata": {},
     "output_type": "execute_result"
    }
   ],
   "source": [
    "le.fit(df)"
   ]
  },
  {
   "cell_type": "code",
   "execution_count": 816,
   "metadata": {},
   "outputs": [],
   "source": [
    "df = le.transform(df)\n",
    "df_val = le.transform(df_val)\n",
    "df_test = le.transform(df_test)"
   ]
  },
  {
   "cell_type": "code",
   "execution_count": 817,
   "metadata": {},
   "outputs": [],
   "source": [
    "df[cat_cols] = df[cat_cols].astype('category')\n",
    "df_val[cat_cols] = df_val[cat_cols].astype('category')\n",
    "df_test[cat_cols] = df_test[cat_cols].astype('category')"
   ]
  },
  {
   "cell_type": "markdown",
   "metadata": {},
   "source": [
    "# Create Train/Test Dataset"
   ]
  },
  {
   "cell_type": "code",
   "execution_count": 818,
   "metadata": {},
   "outputs": [],
   "source": [
    "X = df.drop(columns='Reservation_Status')\n",
    "y = df['Reservation_Status']"
   ]
  },
  {
   "cell_type": "code",
   "execution_count": 819,
   "metadata": {},
   "outputs": [],
   "source": [
    "val_X = df_val.drop(columns='Reservation_Status')\n",
    "val_y = df_val['Reservation_Status']"
   ]
  },
  {
   "cell_type": "code",
   "execution_count": 820,
   "metadata": {},
   "outputs": [],
   "source": [
    "sub_X = df_test.drop(columns='Reservation_Status')"
   ]
  },
  {
   "cell_type": "code",
   "execution_count": 1057,
   "metadata": {},
   "outputs": [],
   "source": [
    "train_X, test_X, train_y, test_y = train_test_split(X, y, test_size=0.2, random_state=10)"
   ]
  },
  {
   "cell_type": "markdown",
   "metadata": {},
   "source": [
    "## Oversample using SMOTE"
   ]
  },
  {
   "cell_type": "raw",
   "metadata": {},
   "source": [
    "train_y.value_counts()"
   ]
  },
  {
   "cell_type": "raw",
   "metadata": {},
   "source": [
    "oversample = SMOTE(sampling_strategy={1:16973, 2:20000, 3:25000})\n",
    "train_X, train_y = oversample.fit_resample(train_X, train_y)"
   ]
  },
  {
   "cell_type": "raw",
   "metadata": {},
   "source": [
    "train_y.value_counts()"
   ]
  },
  {
   "cell_type": "code",
   "execution_count": 1058,
   "metadata": {},
   "outputs": [],
   "source": [
    "categorical_features_indices = categorical_features_indices[:-1]"
   ]
  },
  {
   "cell_type": "code",
   "execution_count": 1059,
   "metadata": {},
   "outputs": [
    {
     "data": {
      "text/plain": [
       "array([ 0,  2,  3,  4,  5,  6, 10, 11, 12, 13], dtype=int64)"
      ]
     },
     "execution_count": 1059,
     "metadata": {},
     "output_type": "execute_result"
    }
   ],
   "source": [
    "categorical_features_indices"
   ]
  },
  {
   "cell_type": "code",
   "execution_count": 1060,
   "metadata": {},
   "outputs": [
    {
     "data": {
      "text/plain": [
       "Gender                    category\n",
       "Age                          int64\n",
       "Ethnicity                 category\n",
       "Educational_Level         category\n",
       "Income                    category\n",
       "Country_region            category\n",
       "Hotel_Type                category\n",
       "Adults                       int64\n",
       "Children                     int64\n",
       "Babies                       int64\n",
       "Meal_Type                 category\n",
       "Visted_Previously         category\n",
       "Previous_Cancellations    category\n",
       "Deposit_type              category\n",
       "Booking_channel           category\n",
       "Required_Car_Parking      category\n",
       "Reservation_Status           int32\n",
       "Use_Promotion             category\n",
       "Discount_Rate                int64\n",
       "Room_Rate                    int64\n",
       "income_amount                int64\n",
       "total_cost                   int64\n",
       "income_ratio               float64\n",
       "checkin_day                  int64\n",
       "checkin_week                 int64\n",
       "checkin_dayofweek            int64\n",
       "dtype: object"
      ]
     },
     "execution_count": 1060,
     "metadata": {},
     "output_type": "execute_result"
    }
   ],
   "source": [
    "df.dtypes"
   ]
  },
  {
   "cell_type": "markdown",
   "metadata": {},
   "source": [
    "# Model Training"
   ]
  },
  {
   "cell_type": "raw",
   "metadata": {},
   "source": [
    "classes=[1,2,3]\n",
    "cl_weights = compute_class_weight('balanced', classes=classes, y=train_y)\n",
    "weights = y.map(dict(zip(classes, cl_weights))).values"
   ]
  },
  {
   "cell_type": "raw",
   "metadata": {},
   "source": [
    "model = XGBClassifier(n_estimators=200, n_jobs=-1, max_depth=6, scale_pos_weight=cl_weights)"
   ]
  },
  {
   "cell_type": "raw",
   "metadata": {},
   "source": [
    "model.fit(train_X, train_y, sample_weight=weights)"
   ]
  },
  {
   "cell_type": "raw",
   "metadata": {},
   "source": [
    "model = CatBoostClassifier(n_estimators=100, max_depth=4, auto_class_weights='Balanced')"
   ]
  },
  {
   "cell_type": "code",
   "execution_count": 1089,
   "metadata": {},
   "outputs": [],
   "source": [
    "model = LGBMClassifier(n_estimators=400, n_jobs=-1, max_depth=2, num_leaves=12\n",
    "                      ,random_state=2, class_weight='balanced', min_child_samples=300, subsample=1)"
   ]
  },
  {
   "cell_type": "raw",
   "metadata": {},
   "source": [
    "model = ExtraTreesClassifier(n_estimators=1000, max_depth=10, class_weight='balanced')"
   ]
  },
  {
   "cell_type": "raw",
   "metadata": {},
   "source": [
    "model.fit(train_X, train_y)"
   ]
  },
  {
   "cell_type": "code",
   "execution_count": 1090,
   "metadata": {},
   "outputs": [
    {
     "data": {
      "text/plain": [
       "LGBMClassifier(class_weight='balanced', max_depth=2, min_child_samples=300,\n",
       "               n_estimators=400, num_leaves=12, random_state=2, subsample=1)"
      ]
     },
     "execution_count": 1090,
     "metadata": {},
     "output_type": "execute_result"
    }
   ],
   "source": [
    "model.fit(train_X, train_y,categorical_feature='auto', verbose=0)"
   ]
  },
  {
   "cell_type": "markdown",
   "metadata": {},
   "source": [
    "# Model Evaluation"
   ]
  },
  {
   "cell_type": "code",
   "execution_count": 1091,
   "metadata": {},
   "outputs": [],
   "source": [
    "pred_y = model.predict(test_X)\n",
    "pred_y_train = model.predict(train_X)\n",
    "pred_y_val = model.predict(val_X)"
   ]
  },
  {
   "cell_type": "code",
   "execution_count": 1092,
   "metadata": {},
   "outputs": [
    {
     "name": "stdout",
     "output_type": "stream",
     "text": [
      "              precision    recall  f1-score   support\n",
      "\n",
      "           1       0.85      0.58      0.69      4248\n",
      "           2       0.21      0.33      0.26       811\n",
      "           3       0.10      0.31      0.16       441\n",
      "\n",
      "    accuracy                           0.52      5500\n",
      "   macro avg       0.39      0.41      0.37      5500\n",
      "weighted avg       0.69      0.52      0.58      5500\n",
      "\n"
     ]
    }
   ],
   "source": [
    "print(classification_report(test_y, pred_y))"
   ]
  },
  {
   "cell_type": "code",
   "execution_count": 1093,
   "metadata": {},
   "outputs": [
    {
     "name": "stdout",
     "output_type": "stream",
     "text": [
      "0.41828177983625453\n"
     ]
    }
   ],
   "source": [
    "print(f1_score(train_y, pred_y_train, average='macro'))"
   ]
  },
  {
   "cell_type": "code",
   "execution_count": 1094,
   "metadata": {},
   "outputs": [
    {
     "name": "stdout",
     "output_type": "stream",
     "text": [
      "0.36615657728919254\n"
     ]
    }
   ],
   "source": [
    "print(f1_score(test_y, pred_y, average='macro'))"
   ]
  },
  {
   "cell_type": "code",
   "execution_count": 1095,
   "metadata": {},
   "outputs": [
    {
     "name": "stdout",
     "output_type": "stream",
     "text": [
      "0.3427719159457206\n"
     ]
    }
   ],
   "source": [
    "print(f1_score(val_y, pred_y_val, average='macro'))"
   ]
  },
  {
   "cell_type": "code",
   "execution_count": 1096,
   "metadata": {},
   "outputs": [
    {
     "data": {
      "text/plain": [
       "checkin_week              497\n",
       "income_ratio              438\n",
       "total_cost                349\n",
       "checkin_day               338\n",
       "Age                       316\n",
       "Room_Rate                 303\n",
       "checkin_dayofweek         192\n",
       "Meal_Type                 147\n",
       "Discount_Rate             115\n",
       "Ethnicity                  92\n",
       "Country_region             84\n",
       "Educational_Level          80\n",
       "Adults                     78\n",
       "Hotel_Type                 59\n",
       "Income                     54\n",
       "Deposit_type               51\n",
       "Babies                     45\n",
       "Use_Promotion              44\n",
       "Children                   41\n",
       "Booking_channel            32\n",
       "Previous_Cancellations     26\n",
       "Gender                     21\n",
       "Visted_Previously          20\n",
       "Required_Car_Parking       19\n",
       "income_amount               2\n",
       "dtype: int32"
      ]
     },
     "execution_count": 1096,
     "metadata": {},
     "output_type": "execute_result"
    }
   ],
   "source": [
    "pd.Series(model.feature_importances_, index=train_X.columns).sort_values(ascending=False)"
   ]
  },
  {
   "cell_type": "code",
   "execution_count": 1097,
   "metadata": {},
   "outputs": [
    {
     "data": {
      "text/html": [
       "<div>\n",
       "<style scoped>\n",
       "    .dataframe tbody tr th:only-of-type {\n",
       "        vertical-align: middle;\n",
       "    }\n",
       "\n",
       "    .dataframe tbody tr th {\n",
       "        vertical-align: top;\n",
       "    }\n",
       "\n",
       "    .dataframe thead th {\n",
       "        text-align: right;\n",
       "    }\n",
       "</style>\n",
       "<table border=\"1\" class=\"dataframe\">\n",
       "  <thead>\n",
       "    <tr style=\"text-align: right;\">\n",
       "      <th></th>\n",
       "      <th>Gender</th>\n",
       "      <th>Age</th>\n",
       "      <th>Ethnicity</th>\n",
       "      <th>Educational_Level</th>\n",
       "      <th>Income</th>\n",
       "      <th>Country_region</th>\n",
       "      <th>Hotel_Type</th>\n",
       "      <th>Adults</th>\n",
       "      <th>Children</th>\n",
       "      <th>Babies</th>\n",
       "      <th>...</th>\n",
       "      <th>Discount_Rate</th>\n",
       "      <th>Room_Rate</th>\n",
       "      <th>income_amount</th>\n",
       "      <th>total_cost</th>\n",
       "      <th>income_ratio</th>\n",
       "      <th>checkin_day</th>\n",
       "      <th>checkin_week</th>\n",
       "      <th>checkin_dayofweek</th>\n",
       "      <th>Reservation_Status</th>\n",
       "      <th>pred_y</th>\n",
       "    </tr>\n",
       "    <tr>\n",
       "      <th>Reservation-id</th>\n",
       "      <th></th>\n",
       "      <th></th>\n",
       "      <th></th>\n",
       "      <th></th>\n",
       "      <th></th>\n",
       "      <th></th>\n",
       "      <th></th>\n",
       "      <th></th>\n",
       "      <th></th>\n",
       "      <th></th>\n",
       "      <th></th>\n",
       "      <th></th>\n",
       "      <th></th>\n",
       "      <th></th>\n",
       "      <th></th>\n",
       "      <th></th>\n",
       "      <th></th>\n",
       "      <th></th>\n",
       "      <th></th>\n",
       "      <th></th>\n",
       "      <th></th>\n",
       "    </tr>\n",
       "  </thead>\n",
       "  <tbody>\n",
       "    <tr>\n",
       "      <th>62931593</th>\n",
       "      <td>1</td>\n",
       "      <td>52</td>\n",
       "      <td>1</td>\n",
       "      <td>1</td>\n",
       "      <td>4</td>\n",
       "      <td>3</td>\n",
       "      <td>1</td>\n",
       "      <td>3</td>\n",
       "      <td>3</td>\n",
       "      <td>0</td>\n",
       "      <td>...</td>\n",
       "      <td>10</td>\n",
       "      <td>153</td>\n",
       "      <td>50</td>\n",
       "      <td>275.40</td>\n",
       "      <td>0.181554</td>\n",
       "      <td>18</td>\n",
       "      <td>46</td>\n",
       "      <td>4</td>\n",
       "      <td>abc</td>\n",
       "      <td>3</td>\n",
       "    </tr>\n",
       "    <tr>\n",
       "      <th>70586099</th>\n",
       "      <td>1</td>\n",
       "      <td>47</td>\n",
       "      <td>1</td>\n",
       "      <td>1</td>\n",
       "      <td>4</td>\n",
       "      <td>2</td>\n",
       "      <td>2</td>\n",
       "      <td>2</td>\n",
       "      <td>1</td>\n",
       "      <td>0</td>\n",
       "      <td>...</td>\n",
       "      <td>0</td>\n",
       "      <td>210</td>\n",
       "      <td>50</td>\n",
       "      <td>210.00</td>\n",
       "      <td>0.238095</td>\n",
       "      <td>18</td>\n",
       "      <td>46</td>\n",
       "      <td>4</td>\n",
       "      <td>abc</td>\n",
       "      <td>3</td>\n",
       "    </tr>\n",
       "    <tr>\n",
       "      <th>4230648</th>\n",
       "      <td>1</td>\n",
       "      <td>28</td>\n",
       "      <td>4</td>\n",
       "      <td>1</td>\n",
       "      <td>1</td>\n",
       "      <td>2</td>\n",
       "      <td>1</td>\n",
       "      <td>2</td>\n",
       "      <td>2</td>\n",
       "      <td>0</td>\n",
       "      <td>...</td>\n",
       "      <td>5</td>\n",
       "      <td>117</td>\n",
       "      <td>25</td>\n",
       "      <td>111.15</td>\n",
       "      <td>0.224921</td>\n",
       "      <td>28</td>\n",
       "      <td>17</td>\n",
       "      <td>4</td>\n",
       "      <td>abc</td>\n",
       "      <td>1</td>\n",
       "    </tr>\n",
       "    <tr>\n",
       "      <th>25192322</th>\n",
       "      <td>1</td>\n",
       "      <td>65</td>\n",
       "      <td>2</td>\n",
       "      <td>4</td>\n",
       "      <td>4</td>\n",
       "      <td>3</td>\n",
       "      <td>2</td>\n",
       "      <td>1</td>\n",
       "      <td>3</td>\n",
       "      <td>2</td>\n",
       "      <td>...</td>\n",
       "      <td>10</td>\n",
       "      <td>107</td>\n",
       "      <td>50</td>\n",
       "      <td>96.30</td>\n",
       "      <td>0.519211</td>\n",
       "      <td>18</td>\n",
       "      <td>46</td>\n",
       "      <td>4</td>\n",
       "      <td>abc</td>\n",
       "      <td>2</td>\n",
       "    </tr>\n",
       "    <tr>\n",
       "      <th>80931528</th>\n",
       "      <td>2</td>\n",
       "      <td>45</td>\n",
       "      <td>3</td>\n",
       "      <td>3</td>\n",
       "      <td>4</td>\n",
       "      <td>3</td>\n",
       "      <td>1</td>\n",
       "      <td>3</td>\n",
       "      <td>1</td>\n",
       "      <td>0</td>\n",
       "      <td>...</td>\n",
       "      <td>0</td>\n",
       "      <td>119</td>\n",
       "      <td>50</td>\n",
       "      <td>119.00</td>\n",
       "      <td>0.420168</td>\n",
       "      <td>18</td>\n",
       "      <td>46</td>\n",
       "      <td>4</td>\n",
       "      <td>abc</td>\n",
       "      <td>1</td>\n",
       "    </tr>\n",
       "    <tr>\n",
       "      <th>...</th>\n",
       "      <td>...</td>\n",
       "      <td>...</td>\n",
       "      <td>...</td>\n",
       "      <td>...</td>\n",
       "      <td>...</td>\n",
       "      <td>...</td>\n",
       "      <td>...</td>\n",
       "      <td>...</td>\n",
       "      <td>...</td>\n",
       "      <td>...</td>\n",
       "      <td>...</td>\n",
       "      <td>...</td>\n",
       "      <td>...</td>\n",
       "      <td>...</td>\n",
       "      <td>...</td>\n",
       "      <td>...</td>\n",
       "      <td>...</td>\n",
       "      <td>...</td>\n",
       "      <td>...</td>\n",
       "      <td>...</td>\n",
       "      <td>...</td>\n",
       "    </tr>\n",
       "    <tr>\n",
       "      <th>39110574</th>\n",
       "      <td>2</td>\n",
       "      <td>53</td>\n",
       "      <td>1</td>\n",
       "      <td>3</td>\n",
       "      <td>2</td>\n",
       "      <td>3</td>\n",
       "      <td>3</td>\n",
       "      <td>3</td>\n",
       "      <td>3</td>\n",
       "      <td>1</td>\n",
       "      <td>...</td>\n",
       "      <td>0</td>\n",
       "      <td>153</td>\n",
       "      <td>100</td>\n",
       "      <td>306.00</td>\n",
       "      <td>0.326797</td>\n",
       "      <td>29</td>\n",
       "      <td>13</td>\n",
       "      <td>2</td>\n",
       "      <td>abc</td>\n",
       "      <td>3</td>\n",
       "    </tr>\n",
       "    <tr>\n",
       "      <th>5496554</th>\n",
       "      <td>1</td>\n",
       "      <td>63</td>\n",
       "      <td>2</td>\n",
       "      <td>3</td>\n",
       "      <td>2</td>\n",
       "      <td>3</td>\n",
       "      <td>3</td>\n",
       "      <td>3</td>\n",
       "      <td>3</td>\n",
       "      <td>0</td>\n",
       "      <td>...</td>\n",
       "      <td>40</td>\n",
       "      <td>233</td>\n",
       "      <td>100</td>\n",
       "      <td>279.60</td>\n",
       "      <td>0.357654</td>\n",
       "      <td>29</td>\n",
       "      <td>13</td>\n",
       "      <td>2</td>\n",
       "      <td>abc</td>\n",
       "      <td>3</td>\n",
       "    </tr>\n",
       "    <tr>\n",
       "      <th>59004046</th>\n",
       "      <td>1</td>\n",
       "      <td>59</td>\n",
       "      <td>2</td>\n",
       "      <td>1</td>\n",
       "      <td>1</td>\n",
       "      <td>2</td>\n",
       "      <td>2</td>\n",
       "      <td>2</td>\n",
       "      <td>3</td>\n",
       "      <td>0</td>\n",
       "      <td>...</td>\n",
       "      <td>0</td>\n",
       "      <td>242</td>\n",
       "      <td>25</td>\n",
       "      <td>242.00</td>\n",
       "      <td>0.103306</td>\n",
       "      <td>29</td>\n",
       "      <td>13</td>\n",
       "      <td>2</td>\n",
       "      <td>abc</td>\n",
       "      <td>2</td>\n",
       "    </tr>\n",
       "    <tr>\n",
       "      <th>65838682</th>\n",
       "      <td>2</td>\n",
       "      <td>43</td>\n",
       "      <td>3</td>\n",
       "      <td>3</td>\n",
       "      <td>4</td>\n",
       "      <td>4</td>\n",
       "      <td>3</td>\n",
       "      <td>4</td>\n",
       "      <td>2</td>\n",
       "      <td>1</td>\n",
       "      <td>...</td>\n",
       "      <td>0</td>\n",
       "      <td>208</td>\n",
       "      <td>50</td>\n",
       "      <td>416.00</td>\n",
       "      <td>0.120192</td>\n",
       "      <td>29</td>\n",
       "      <td>13</td>\n",
       "      <td>2</td>\n",
       "      <td>abc</td>\n",
       "      <td>1</td>\n",
       "    </tr>\n",
       "    <tr>\n",
       "      <th>14474101</th>\n",
       "      <td>1</td>\n",
       "      <td>33</td>\n",
       "      <td>3</td>\n",
       "      <td>2</td>\n",
       "      <td>2</td>\n",
       "      <td>1</td>\n",
       "      <td>1</td>\n",
       "      <td>2</td>\n",
       "      <td>3</td>\n",
       "      <td>0</td>\n",
       "      <td>...</td>\n",
       "      <td>20</td>\n",
       "      <td>213</td>\n",
       "      <td>100</td>\n",
       "      <td>170.40</td>\n",
       "      <td>0.586854</td>\n",
       "      <td>29</td>\n",
       "      <td>13</td>\n",
       "      <td>2</td>\n",
       "      <td>abc</td>\n",
       "      <td>3</td>\n",
       "    </tr>\n",
       "  </tbody>\n",
       "</table>\n",
       "<p>4318 rows × 27 columns</p>\n",
       "</div>"
      ],
      "text/plain": [
       "               Gender  Age Ethnicity Educational_Level Income Country_region  \\\n",
       "Reservation-id                                                                 \n",
       "62931593            1   52         1                 1      4              3   \n",
       "70586099            1   47         1                 1      4              2   \n",
       "4230648             1   28         4                 1      1              2   \n",
       "25192322            1   65         2                 4      4              3   \n",
       "80931528            2   45         3                 3      4              3   \n",
       "...               ...  ...       ...               ...    ...            ...   \n",
       "39110574            2   53         1                 3      2              3   \n",
       "5496554             1   63         2                 3      2              3   \n",
       "59004046            1   59         2                 1      1              2   \n",
       "65838682            2   43         3                 3      4              4   \n",
       "14474101            1   33         3                 2      2              1   \n",
       "\n",
       "               Hotel_Type  Adults  Children  Babies  ... Discount_Rate  \\\n",
       "Reservation-id                                       ...                 \n",
       "62931593                1       3         3       0  ...            10   \n",
       "70586099                2       2         1       0  ...             0   \n",
       "4230648                 1       2         2       0  ...             5   \n",
       "25192322                2       1         3       2  ...            10   \n",
       "80931528                1       3         1       0  ...             0   \n",
       "...                   ...     ...       ...     ...  ...           ...   \n",
       "39110574                3       3         3       1  ...             0   \n",
       "5496554                 3       3         3       0  ...            40   \n",
       "59004046                2       2         3       0  ...             0   \n",
       "65838682                3       4         2       1  ...             0   \n",
       "14474101                1       2         3       0  ...            20   \n",
       "\n",
       "               Room_Rate income_amount total_cost income_ratio checkin_day  \\\n",
       "Reservation-id                                                               \n",
       "62931593             153            50     275.40     0.181554          18   \n",
       "70586099             210            50     210.00     0.238095          18   \n",
       "4230648              117            25     111.15     0.224921          28   \n",
       "25192322             107            50      96.30     0.519211          18   \n",
       "80931528             119            50     119.00     0.420168          18   \n",
       "...                  ...           ...        ...          ...         ...   \n",
       "39110574             153           100     306.00     0.326797          29   \n",
       "5496554              233           100     279.60     0.357654          29   \n",
       "59004046             242            25     242.00     0.103306          29   \n",
       "65838682             208            50     416.00     0.120192          29   \n",
       "14474101             213           100     170.40     0.586854          29   \n",
       "\n",
       "               checkin_week  checkin_dayofweek  Reservation_Status  pred_y  \n",
       "Reservation-id                                                              \n",
       "62931593                 46                  4                 abc       3  \n",
       "70586099                 46                  4                 abc       3  \n",
       "4230648                  17                  4                 abc       1  \n",
       "25192322                 46                  4                 abc       2  \n",
       "80931528                 46                  4                 abc       1  \n",
       "...                     ...                ...                 ...     ...  \n",
       "39110574                 13                  2                 abc       3  \n",
       "5496554                  13                  2                 abc       3  \n",
       "59004046                 13                  2                 abc       2  \n",
       "65838682                 13                  2                 abc       1  \n",
       "14474101                 13                  2                 abc       3  \n",
       "\n",
       "[4318 rows x 27 columns]"
      ]
     },
     "execution_count": 1097,
     "metadata": {},
     "output_type": "execute_result"
    }
   ],
   "source": [
    "df_test"
   ]
  },
  {
   "cell_type": "code",
   "execution_count": 1098,
   "metadata": {},
   "outputs": [],
   "source": [
    "sub_y = model.predict(sub_X)"
   ]
  },
  {
   "cell_type": "code",
   "execution_count": 1099,
   "metadata": {},
   "outputs": [
    {
     "data": {
      "text/plain": [
       "array([3, 3, 1, ..., 2, 1, 3])"
      ]
     },
     "execution_count": 1099,
     "metadata": {},
     "output_type": "execute_result"
    }
   ],
   "source": [
    "sub_y"
   ]
  },
  {
   "cell_type": "code",
   "execution_count": 1100,
   "metadata": {},
   "outputs": [],
   "source": [
    "df_test['pred_y'] = sub_y"
   ]
  },
  {
   "cell_type": "code",
   "execution_count": 1101,
   "metadata": {},
   "outputs": [],
   "source": [
    "sub_s = df_test.pred_y"
   ]
  },
  {
   "cell_type": "code",
   "execution_count": 1102,
   "metadata": {},
   "outputs": [],
   "source": [
    "sub_s.name = 'Reservation_status'"
   ]
  },
  {
   "cell_type": "code",
   "execution_count": 1103,
   "metadata": {},
   "outputs": [],
   "source": [
    "sub_s.to_frame().to_csv('../output/submission_file_12Mar_01_16_am.csv', header=True)"
   ]
  },
  {
   "cell_type": "code",
   "execution_count": null,
   "metadata": {},
   "outputs": [],
   "source": []
  }
 ],
 "metadata": {
  "kernelspec": {
   "display_name": "Python 3",
   "language": "python",
   "name": "python3"
  },
  "language_info": {
   "codemirror_mode": {
    "name": "ipython",
    "version": 3
   },
   "file_extension": ".py",
   "mimetype": "text/x-python",
   "name": "python",
   "nbconvert_exporter": "python",
   "pygments_lexer": "ipython3",
   "version": "3.6.8"
  }
 },
 "nbformat": 4,
 "nbformat_minor": 4
}
